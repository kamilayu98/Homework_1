{
 "cells": [
  {
   "cell_type": "markdown",
   "id": "f3f02c57",
   "metadata": {},
   "source": [
    "#### Описание данных:\n",
    " <ul>\n",
    "    <li><strong>\"year\"</strong> - year (1990-2017)</li>\n",
    "<li><strong>\"region\"</strong> - name of a federal subject of Russia. It could be oblast, republic, krai, autonomous okrug, federal city and a single autonomous oblast</li>\n",
    "<li><strong>\"npg\"</strong> - natural population growth by 1000 people. Calculating as the difference between birth rate and death rate</li>\n",
    "<li><strong>\"birth_rate\"</strong> - number of births by 1000 people</li>\n",
    "<li><strong>\"death_rate\"</strong> - number of deaths by 1000 people</li>\n",
    "<li><strong>\"gdw\"</strong> - general demographic weight (how many people of non-woking age account for 100 people of working age). Working age for men 16-60 years, for women 16-55 years</li>\n",
    "<li><strong>\"urbanization\"</strong> - % of urban population</li>\n",
    "    </ul>\n",
    "    Источник <a href='https://www.kaggle.com/datasets/dwdkills/russian-demography'>Russian Demography Data (1990-2017)</a>"
   ]
  },
  {
   "cell_type": "code",
   "execution_count": 200,
   "id": "96975553",
   "metadata": {
    "scrolled": false
   },
   "outputs": [
    {
     "data": {
      "text/html": [
       "<div>\n",
       "<style scoped>\n",
       "    .dataframe tbody tr th:only-of-type {\n",
       "        vertical-align: middle;\n",
       "    }\n",
       "\n",
       "    .dataframe tbody tr th {\n",
       "        vertical-align: top;\n",
       "    }\n",
       "\n",
       "    .dataframe thead th {\n",
       "        text-align: right;\n",
       "    }\n",
       "</style>\n",
       "<table border=\"1\" class=\"dataframe\">\n",
       "  <thead>\n",
       "    <tr style=\"text-align: right;\">\n",
       "      <th></th>\n",
       "      <th>year</th>\n",
       "      <th>region</th>\n",
       "      <th>npg</th>\n",
       "      <th>birth_rate</th>\n",
       "      <th>death_rate</th>\n",
       "      <th>gdw</th>\n",
       "      <th>urbanization</th>\n",
       "    </tr>\n",
       "  </thead>\n",
       "  <tbody>\n",
       "    <tr>\n",
       "      <th>0</th>\n",
       "      <td>1990</td>\n",
       "      <td>Republic of Adygea</td>\n",
       "      <td>1.9</td>\n",
       "      <td>14.2</td>\n",
       "      <td>12.3</td>\n",
       "      <td>84.66</td>\n",
       "      <td>52.42</td>\n",
       "    </tr>\n",
       "    <tr>\n",
       "      <th>1</th>\n",
       "      <td>1990</td>\n",
       "      <td>Altai Krai</td>\n",
       "      <td>1.8</td>\n",
       "      <td>12.9</td>\n",
       "      <td>11.1</td>\n",
       "      <td>80.24</td>\n",
       "      <td>58.07</td>\n",
       "    </tr>\n",
       "    <tr>\n",
       "      <th>2</th>\n",
       "      <td>1990</td>\n",
       "      <td>Amur Oblast</td>\n",
       "      <td>7.6</td>\n",
       "      <td>16.2</td>\n",
       "      <td>8.6</td>\n",
       "      <td>69.55</td>\n",
       "      <td>68.37</td>\n",
       "    </tr>\n",
       "    <tr>\n",
       "      <th>3</th>\n",
       "      <td>1990</td>\n",
       "      <td>Arkhangelsk Oblast</td>\n",
       "      <td>3.7</td>\n",
       "      <td>13.5</td>\n",
       "      <td>9.8</td>\n",
       "      <td>73.26</td>\n",
       "      <td>73.63</td>\n",
       "    </tr>\n",
       "    <tr>\n",
       "      <th>4</th>\n",
       "      <td>1990</td>\n",
       "      <td>Astrakhan Oblast</td>\n",
       "      <td>4.7</td>\n",
       "      <td>15.1</td>\n",
       "      <td>10.4</td>\n",
       "      <td>77.05</td>\n",
       "      <td>68.01</td>\n",
       "    </tr>\n",
       "    <tr>\n",
       "      <th>...</th>\n",
       "      <td>...</td>\n",
       "      <td>...</td>\n",
       "      <td>...</td>\n",
       "      <td>...</td>\n",
       "      <td>...</td>\n",
       "      <td>...</td>\n",
       "      <td>...</td>\n",
       "    </tr>\n",
       "    <tr>\n",
       "      <th>2375</th>\n",
       "      <td>2017</td>\n",
       "      <td>Chuvash Republic</td>\n",
       "      <td>-1.3</td>\n",
       "      <td>11.3</td>\n",
       "      <td>12.6</td>\n",
       "      <td>76.63</td>\n",
       "      <td>62.00</td>\n",
       "    </tr>\n",
       "    <tr>\n",
       "      <th>2376</th>\n",
       "      <td>2017</td>\n",
       "      <td>Chukotka Autonomous Okrug</td>\n",
       "      <td>3.7</td>\n",
       "      <td>13.1</td>\n",
       "      <td>9.4</td>\n",
       "      <td>58.23</td>\n",
       "      <td>70.00</td>\n",
       "    </tr>\n",
       "    <tr>\n",
       "      <th>2377</th>\n",
       "      <td>2017</td>\n",
       "      <td>Sakha (Yakutia) Republic</td>\n",
       "      <td>6.4</td>\n",
       "      <td>14.5</td>\n",
       "      <td>8.1</td>\n",
       "      <td>70.10</td>\n",
       "      <td>65.50</td>\n",
       "    </tr>\n",
       "    <tr>\n",
       "      <th>2378</th>\n",
       "      <td>2017</td>\n",
       "      <td>Yamalo-Nenets Autonomous Okrug</td>\n",
       "      <td>9.1</td>\n",
       "      <td>14.0</td>\n",
       "      <td>4.9</td>\n",
       "      <td>53.57</td>\n",
       "      <td>83.70</td>\n",
       "    </tr>\n",
       "    <tr>\n",
       "      <th>2379</th>\n",
       "      <td>2017</td>\n",
       "      <td>Yaroslavl Oblast</td>\n",
       "      <td>-4.7</td>\n",
       "      <td>10.5</td>\n",
       "      <td>15.2</td>\n",
       "      <td>82.61</td>\n",
       "      <td>81.70</td>\n",
       "    </tr>\n",
       "  </tbody>\n",
       "</table>\n",
       "<p>2380 rows × 7 columns</p>\n",
       "</div>"
      ],
      "text/plain": [
       "      year                          region  npg  birth_rate  death_rate  \\\n",
       "0     1990              Republic of Adygea  1.9        14.2        12.3   \n",
       "1     1990                      Altai Krai  1.8        12.9        11.1   \n",
       "2     1990                     Amur Oblast  7.6        16.2         8.6   \n",
       "3     1990              Arkhangelsk Oblast  3.7        13.5         9.8   \n",
       "4     1990                Astrakhan Oblast  4.7        15.1        10.4   \n",
       "...    ...                             ...  ...         ...         ...   \n",
       "2375  2017                Chuvash Republic -1.3        11.3        12.6   \n",
       "2376  2017       Chukotka Autonomous Okrug  3.7        13.1         9.4   \n",
       "2377  2017        Sakha (Yakutia) Republic  6.4        14.5         8.1   \n",
       "2378  2017  Yamalo-Nenets Autonomous Okrug  9.1        14.0         4.9   \n",
       "2379  2017                Yaroslavl Oblast -4.7        10.5        15.2   \n",
       "\n",
       "        gdw  urbanization  \n",
       "0     84.66         52.42  \n",
       "1     80.24         58.07  \n",
       "2     69.55         68.37  \n",
       "3     73.26         73.63  \n",
       "4     77.05         68.01  \n",
       "...     ...           ...  \n",
       "2375  76.63         62.00  \n",
       "2376  58.23         70.00  \n",
       "2377  70.10         65.50  \n",
       "2378  53.57         83.70  \n",
       "2379  82.61         81.70  \n",
       "\n",
       "[2380 rows x 7 columns]"
      ]
     },
     "execution_count": 200,
     "metadata": {},
     "output_type": "execute_result"
    }
   ],
   "source": [
    "import pandas as pd\n",
    "import numpy as np\n",
    "df=pd.read_csv('/Users/kamilayuldasheva/Downloads/russian_demography.csv',sep=',')\n",
    "df"
   ]
  },
  {
   "cell_type": "code",
   "execution_count": 201,
   "id": "c903be50",
   "metadata": {
    "scrolled": true
   },
   "outputs": [
    {
     "name": "stdout",
     "output_type": "stream",
     "text": [
      "<class 'pandas.core.frame.DataFrame'>\n",
      "RangeIndex: 2380 entries, 0 to 2379\n",
      "Data columns (total 7 columns):\n",
      " #   Column        Non-Null Count  Dtype  \n",
      "---  ------        --------------  -----  \n",
      " 0   year          2380 non-null   int64  \n",
      " 1   region        2380 non-null   object \n",
      " 2   npg           2317 non-null   float64\n",
      " 3   birth_rate    2317 non-null   float64\n",
      " 4   death_rate    2315 non-null   float64\n",
      " 5   gdw           2330 non-null   float64\n",
      " 6   urbanization  2330 non-null   float64\n",
      "dtypes: float64(5), int64(1), object(1)\n",
      "memory usage: 130.3+ KB\n"
     ]
    }
   ],
   "source": [
    "df.info()"
   ]
  },
  {
   "cell_type": "markdown",
   "id": "d16731b8",
   "metadata": {},
   "source": [
    "Анализ показал что у нас есть данные 5 колонок с данными типа flot64 - переменные с плавающими значениями; одна колонка с данными типа int64 - это данные с целами числами, в нашем случае это года. Также есть данные которые прогромма воспинирает как строку (object). Видим, что в данных есть пропущенные значения. "
   ]
  },
  {
   "cell_type": "code",
   "execution_count": 202,
   "id": "94111e17",
   "metadata": {
    "scrolled": true
   },
   "outputs": [
    {
     "data": {
      "text/plain": [
       "year             0\n",
       "region           0\n",
       "npg             63\n",
       "birth_rate      63\n",
       "death_rate      65\n",
       "gdw             50\n",
       "urbanization    50\n",
       "dtype: int64"
      ]
     },
     "execution_count": 202,
     "metadata": {},
     "output_type": "execute_result"
    }
   ],
   "source": [
    "df.isna().sum()"
   ]
  },
  {
   "cell_type": "code",
   "execution_count": 203,
   "id": "83d49c6f",
   "metadata": {},
   "outputs": [
    {
     "data": {
      "text/html": [
       "<div>\n",
       "<style scoped>\n",
       "    .dataframe tbody tr th:only-of-type {\n",
       "        vertical-align: middle;\n",
       "    }\n",
       "\n",
       "    .dataframe tbody tr th {\n",
       "        vertical-align: top;\n",
       "    }\n",
       "\n",
       "    .dataframe thead th {\n",
       "        text-align: right;\n",
       "    }\n",
       "</style>\n",
       "<table border=\"1\" class=\"dataframe\">\n",
       "  <thead>\n",
       "    <tr style=\"text-align: right;\">\n",
       "      <th></th>\n",
       "      <th>year</th>\n",
       "      <th>region</th>\n",
       "      <th>npg</th>\n",
       "      <th>birth_rate</th>\n",
       "      <th>death_rate</th>\n",
       "      <th>gdw</th>\n",
       "      <th>urbanization</th>\n",
       "    </tr>\n",
       "  </thead>\n",
       "  <tbody>\n",
       "    <tr>\n",
       "      <th>0</th>\n",
       "      <td>1990</td>\n",
       "      <td>Republic of Adygea</td>\n",
       "      <td>1.9</td>\n",
       "      <td>14.2</td>\n",
       "      <td>12.3</td>\n",
       "      <td>84.66</td>\n",
       "      <td>52.42</td>\n",
       "    </tr>\n",
       "    <tr>\n",
       "      <th>1</th>\n",
       "      <td>1990</td>\n",
       "      <td>Altai Krai</td>\n",
       "      <td>1.8</td>\n",
       "      <td>12.9</td>\n",
       "      <td>11.1</td>\n",
       "      <td>80.24</td>\n",
       "      <td>58.07</td>\n",
       "    </tr>\n",
       "    <tr>\n",
       "      <th>2</th>\n",
       "      <td>1990</td>\n",
       "      <td>Amur Oblast</td>\n",
       "      <td>7.6</td>\n",
       "      <td>16.2</td>\n",
       "      <td>8.6</td>\n",
       "      <td>69.55</td>\n",
       "      <td>68.37</td>\n",
       "    </tr>\n",
       "    <tr>\n",
       "      <th>3</th>\n",
       "      <td>1990</td>\n",
       "      <td>Arkhangelsk Oblast</td>\n",
       "      <td>3.7</td>\n",
       "      <td>13.5</td>\n",
       "      <td>9.8</td>\n",
       "      <td>73.26</td>\n",
       "      <td>73.63</td>\n",
       "    </tr>\n",
       "    <tr>\n",
       "      <th>4</th>\n",
       "      <td>1990</td>\n",
       "      <td>Astrakhan Oblast</td>\n",
       "      <td>4.7</td>\n",
       "      <td>15.1</td>\n",
       "      <td>10.4</td>\n",
       "      <td>77.05</td>\n",
       "      <td>68.01</td>\n",
       "    </tr>\n",
       "    <tr>\n",
       "      <th>...</th>\n",
       "      <td>...</td>\n",
       "      <td>...</td>\n",
       "      <td>...</td>\n",
       "      <td>...</td>\n",
       "      <td>...</td>\n",
       "      <td>...</td>\n",
       "      <td>...</td>\n",
       "    </tr>\n",
       "    <tr>\n",
       "      <th>2375</th>\n",
       "      <td>2017</td>\n",
       "      <td>Chuvash Republic</td>\n",
       "      <td>-1.3</td>\n",
       "      <td>11.3</td>\n",
       "      <td>12.6</td>\n",
       "      <td>76.63</td>\n",
       "      <td>62.00</td>\n",
       "    </tr>\n",
       "    <tr>\n",
       "      <th>2376</th>\n",
       "      <td>2017</td>\n",
       "      <td>Chukotka Autonomous Okrug</td>\n",
       "      <td>3.7</td>\n",
       "      <td>13.1</td>\n",
       "      <td>9.4</td>\n",
       "      <td>58.23</td>\n",
       "      <td>70.00</td>\n",
       "    </tr>\n",
       "    <tr>\n",
       "      <th>2377</th>\n",
       "      <td>2017</td>\n",
       "      <td>Sakha (Yakutia) Republic</td>\n",
       "      <td>6.4</td>\n",
       "      <td>14.5</td>\n",
       "      <td>8.1</td>\n",
       "      <td>70.10</td>\n",
       "      <td>65.50</td>\n",
       "    </tr>\n",
       "    <tr>\n",
       "      <th>2378</th>\n",
       "      <td>2017</td>\n",
       "      <td>Yamalo-Nenets Autonomous Okrug</td>\n",
       "      <td>9.1</td>\n",
       "      <td>14.0</td>\n",
       "      <td>4.9</td>\n",
       "      <td>53.57</td>\n",
       "      <td>83.70</td>\n",
       "    </tr>\n",
       "    <tr>\n",
       "      <th>2379</th>\n",
       "      <td>2017</td>\n",
       "      <td>Yaroslavl Oblast</td>\n",
       "      <td>-4.7</td>\n",
       "      <td>10.5</td>\n",
       "      <td>15.2</td>\n",
       "      <td>82.61</td>\n",
       "      <td>81.70</td>\n",
       "    </tr>\n",
       "  </tbody>\n",
       "</table>\n",
       "<p>2315 rows × 7 columns</p>\n",
       "</div>"
      ],
      "text/plain": [
       "      year                          region  npg  birth_rate  death_rate  \\\n",
       "0     1990              Republic of Adygea  1.9        14.2        12.3   \n",
       "1     1990                      Altai Krai  1.8        12.9        11.1   \n",
       "2     1990                     Amur Oblast  7.6        16.2         8.6   \n",
       "3     1990              Arkhangelsk Oblast  3.7        13.5         9.8   \n",
       "4     1990                Astrakhan Oblast  4.7        15.1        10.4   \n",
       "...    ...                             ...  ...         ...         ...   \n",
       "2375  2017                Chuvash Republic -1.3        11.3        12.6   \n",
       "2376  2017       Chukotka Autonomous Okrug  3.7        13.1         9.4   \n",
       "2377  2017        Sakha (Yakutia) Republic  6.4        14.5         8.1   \n",
       "2378  2017  Yamalo-Nenets Autonomous Okrug  9.1        14.0         4.9   \n",
       "2379  2017                Yaroslavl Oblast -4.7        10.5        15.2   \n",
       "\n",
       "        gdw  urbanization  \n",
       "0     84.66         52.42  \n",
       "1     80.24         58.07  \n",
       "2     69.55         68.37  \n",
       "3     73.26         73.63  \n",
       "4     77.05         68.01  \n",
       "...     ...           ...  \n",
       "2375  76.63         62.00  \n",
       "2376  58.23         70.00  \n",
       "2377  70.10         65.50  \n",
       "2378  53.57         83.70  \n",
       "2379  82.61         81.70  \n",
       "\n",
       "[2315 rows x 7 columns]"
      ]
     },
     "execution_count": 203,
     "metadata": {},
     "output_type": "execute_result"
    }
   ],
   "source": [
    "df.dropna()"
   ]
  },
  {
   "cell_type": "code",
   "execution_count": 204,
   "id": "b2ac794d",
   "metadata": {},
   "outputs": [],
   "source": [
    "df=df.dropna()"
   ]
  },
  {
   "cell_type": "markdown",
   "id": "cf58a4e6",
   "metadata": {},
   "source": [
    "Отчистили датасет от строк с пропущенными значениями - 65 строк. Мы решили именно удалить а не подставить так как строк с пропущенными значениями немного и их удаление не повлияет на результаты нашего датасета. Далее переименуем колонки:"
   ]
  },
  {
   "cell_type": "code",
   "execution_count": 205,
   "id": "e6b62e0a",
   "metadata": {
    "scrolled": true
   },
   "outputs": [
    {
     "name": "stderr",
     "output_type": "stream",
     "text": [
      "/var/folders/ff/s3b09m1j2jlfm20jwzs75y300000gn/T/ipykernel_1164/468038067.py:1: SettingWithCopyWarning: \n",
      "A value is trying to be set on a copy of a slice from a DataFrame\n",
      "\n",
      "See the caveats in the documentation: https://pandas.pydata.org/pandas-docs/stable/user_guide/indexing.html#returning-a-view-versus-a-copy\n",
      "  df.rename(columns = {'npg': 'natural population growth', 'gdw': 'unemployment rate'}, inplace=True)\n"
     ]
    }
   ],
   "source": [
    "df.rename(columns = {'npg': 'natural population growth', 'gdw': 'unemployment rate'}, inplace=True)"
   ]
  },
  {
   "cell_type": "code",
   "execution_count": 206,
   "id": "7a69722d",
   "metadata": {
    "scrolled": false
   },
   "outputs": [
    {
     "data": {
      "text/html": [
       "<div>\n",
       "<style scoped>\n",
       "    .dataframe tbody tr th:only-of-type {\n",
       "        vertical-align: middle;\n",
       "    }\n",
       "\n",
       "    .dataframe tbody tr th {\n",
       "        vertical-align: top;\n",
       "    }\n",
       "\n",
       "    .dataframe thead th {\n",
       "        text-align: right;\n",
       "    }\n",
       "</style>\n",
       "<table border=\"1\" class=\"dataframe\">\n",
       "  <thead>\n",
       "    <tr style=\"text-align: right;\">\n",
       "      <th></th>\n",
       "      <th>year</th>\n",
       "      <th>region</th>\n",
       "      <th>natural population growth</th>\n",
       "      <th>birth_rate</th>\n",
       "      <th>death_rate</th>\n",
       "      <th>unemployment rate</th>\n",
       "      <th>urbanization</th>\n",
       "    </tr>\n",
       "  </thead>\n",
       "  <tbody>\n",
       "    <tr>\n",
       "      <th>0</th>\n",
       "      <td>1990</td>\n",
       "      <td>Republic of Adygea</td>\n",
       "      <td>1.9</td>\n",
       "      <td>14.2</td>\n",
       "      <td>12.3</td>\n",
       "      <td>84.66</td>\n",
       "      <td>52.42</td>\n",
       "    </tr>\n",
       "    <tr>\n",
       "      <th>1</th>\n",
       "      <td>1990</td>\n",
       "      <td>Altai Krai</td>\n",
       "      <td>1.8</td>\n",
       "      <td>12.9</td>\n",
       "      <td>11.1</td>\n",
       "      <td>80.24</td>\n",
       "      <td>58.07</td>\n",
       "    </tr>\n",
       "    <tr>\n",
       "      <th>2</th>\n",
       "      <td>1990</td>\n",
       "      <td>Amur Oblast</td>\n",
       "      <td>7.6</td>\n",
       "      <td>16.2</td>\n",
       "      <td>8.6</td>\n",
       "      <td>69.55</td>\n",
       "      <td>68.37</td>\n",
       "    </tr>\n",
       "    <tr>\n",
       "      <th>3</th>\n",
       "      <td>1990</td>\n",
       "      <td>Arkhangelsk Oblast</td>\n",
       "      <td>3.7</td>\n",
       "      <td>13.5</td>\n",
       "      <td>9.8</td>\n",
       "      <td>73.26</td>\n",
       "      <td>73.63</td>\n",
       "    </tr>\n",
       "    <tr>\n",
       "      <th>4</th>\n",
       "      <td>1990</td>\n",
       "      <td>Astrakhan Oblast</td>\n",
       "      <td>4.7</td>\n",
       "      <td>15.1</td>\n",
       "      <td>10.4</td>\n",
       "      <td>77.05</td>\n",
       "      <td>68.01</td>\n",
       "    </tr>\n",
       "    <tr>\n",
       "      <th>...</th>\n",
       "      <td>...</td>\n",
       "      <td>...</td>\n",
       "      <td>...</td>\n",
       "      <td>...</td>\n",
       "      <td>...</td>\n",
       "      <td>...</td>\n",
       "      <td>...</td>\n",
       "    </tr>\n",
       "    <tr>\n",
       "      <th>2375</th>\n",
       "      <td>2017</td>\n",
       "      <td>Chuvash Republic</td>\n",
       "      <td>-1.3</td>\n",
       "      <td>11.3</td>\n",
       "      <td>12.6</td>\n",
       "      <td>76.63</td>\n",
       "      <td>62.00</td>\n",
       "    </tr>\n",
       "    <tr>\n",
       "      <th>2376</th>\n",
       "      <td>2017</td>\n",
       "      <td>Chukotka Autonomous Okrug</td>\n",
       "      <td>3.7</td>\n",
       "      <td>13.1</td>\n",
       "      <td>9.4</td>\n",
       "      <td>58.23</td>\n",
       "      <td>70.00</td>\n",
       "    </tr>\n",
       "    <tr>\n",
       "      <th>2377</th>\n",
       "      <td>2017</td>\n",
       "      <td>Sakha (Yakutia) Republic</td>\n",
       "      <td>6.4</td>\n",
       "      <td>14.5</td>\n",
       "      <td>8.1</td>\n",
       "      <td>70.10</td>\n",
       "      <td>65.50</td>\n",
       "    </tr>\n",
       "    <tr>\n",
       "      <th>2378</th>\n",
       "      <td>2017</td>\n",
       "      <td>Yamalo-Nenets Autonomous Okrug</td>\n",
       "      <td>9.1</td>\n",
       "      <td>14.0</td>\n",
       "      <td>4.9</td>\n",
       "      <td>53.57</td>\n",
       "      <td>83.70</td>\n",
       "    </tr>\n",
       "    <tr>\n",
       "      <th>2379</th>\n",
       "      <td>2017</td>\n",
       "      <td>Yaroslavl Oblast</td>\n",
       "      <td>-4.7</td>\n",
       "      <td>10.5</td>\n",
       "      <td>15.2</td>\n",
       "      <td>82.61</td>\n",
       "      <td>81.70</td>\n",
       "    </tr>\n",
       "  </tbody>\n",
       "</table>\n",
       "<p>2315 rows × 7 columns</p>\n",
       "</div>"
      ],
      "text/plain": [
       "      year                          region  natural population growth  \\\n",
       "0     1990              Republic of Adygea                        1.9   \n",
       "1     1990                      Altai Krai                        1.8   \n",
       "2     1990                     Amur Oblast                        7.6   \n",
       "3     1990              Arkhangelsk Oblast                        3.7   \n",
       "4     1990                Astrakhan Oblast                        4.7   \n",
       "...    ...                             ...                        ...   \n",
       "2375  2017                Chuvash Republic                       -1.3   \n",
       "2376  2017       Chukotka Autonomous Okrug                        3.7   \n",
       "2377  2017        Sakha (Yakutia) Republic                        6.4   \n",
       "2378  2017  Yamalo-Nenets Autonomous Okrug                        9.1   \n",
       "2379  2017                Yaroslavl Oblast                       -4.7   \n",
       "\n",
       "      birth_rate  death_rate  unemployment rate  urbanization  \n",
       "0           14.2        12.3              84.66         52.42  \n",
       "1           12.9        11.1              80.24         58.07  \n",
       "2           16.2         8.6              69.55         68.37  \n",
       "3           13.5         9.8              73.26         73.63  \n",
       "4           15.1        10.4              77.05         68.01  \n",
       "...          ...         ...                ...           ...  \n",
       "2375        11.3        12.6              76.63         62.00  \n",
       "2376        13.1         9.4              58.23         70.00  \n",
       "2377        14.5         8.1              70.10         65.50  \n",
       "2378        14.0         4.9              53.57         83.70  \n",
       "2379        10.5        15.2              82.61         81.70  \n",
       "\n",
       "[2315 rows x 7 columns]"
      ]
     },
     "execution_count": 206,
     "metadata": {},
     "output_type": "execute_result"
    }
   ],
   "source": [
    "df"
   ]
  },
  {
   "cell_type": "markdown",
   "id": "c18ef787",
   "metadata": {},
   "source": [
    "### Уровень рождаемости и урбанизации"
   ]
  },
  {
   "cell_type": "markdown",
   "id": "8522a9f0",
   "metadata": {},
   "source": [
    "Проанализируем показатель birth_rate: посмотрим максимальное и минимальное значение"
   ]
  },
  {
   "cell_type": "code",
   "execution_count": 207,
   "id": "6864dcbc",
   "metadata": {},
   "outputs": [
    {
     "data": {
      "text/plain": [
       "29.9"
      ]
     },
     "execution_count": 207,
     "metadata": {},
     "output_type": "execute_result"
    }
   ],
   "source": [
    "df['birth_rate'].max()"
   ]
  },
  {
   "cell_type": "code",
   "execution_count": 208,
   "id": "1a2dec37",
   "metadata": {
    "scrolled": true
   },
   "outputs": [
    {
     "data": {
      "text/plain": [
       "6.2"
      ]
     },
     "execution_count": 208,
     "metadata": {},
     "output_type": "execute_result"
    }
   ],
   "source": [
    "df['birth_rate'].min()"
   ]
  },
  {
   "cell_type": "markdown",
   "id": "5c948585",
   "metadata": {},
   "source": [
    "Ниже мы определим регионы с высокой рождаемостью. Как мы видим в топ-3 входят: Республика Тува, Чеченская Республика и Республика Ингушетия "
   ]
  },
  {
   "cell_type": "code",
   "execution_count": 209,
   "id": "48796b4c",
   "metadata": {},
   "outputs": [
    {
     "data": {
      "text/plain": [
       "Tuva Republic                19\n",
       "Chechen Republic             17\n",
       "Republic of Ingushetia       10\n",
       "Altai Republic                7\n",
       "Republic of Dagestan          6\n",
       "Kabardino-Balkar Republic     1\n",
       "Republic of Kalmykia          1\n",
       "Name: region, dtype: int64"
      ]
     },
     "execution_count": 209,
     "metadata": {},
     "output_type": "execute_result"
    }
   ],
   "source": [
    "df[df['birth_rate']>=20]['region'].value_counts()"
   ]
  },
  {
   "cell_type": "markdown",
   "id": "8b03da81",
   "metadata": {},
   "source": [
    "Далее определим годы с высокой рождаемостью. Высокая рождаемость наблюдается в 1990, 2014 и 2013 году"
   ]
  },
  {
   "cell_type": "code",
   "execution_count": 210,
   "id": "1ad9bae3",
   "metadata": {},
   "outputs": [
    {
     "data": {
      "text/plain": [
       "1990    5\n",
       "2014    4\n",
       "2013    4\n",
       "2012    4\n",
       "2011    4\n",
       "2010    4\n",
       "1995    3\n",
       "2009    3\n",
       "2008    3\n",
       "1991    3\n",
       "2007    2\n",
       "2016    2\n",
       "2015    2\n",
       "2017    2\n",
       "2004    2\n",
       "2003    2\n",
       "1994    2\n",
       "1993    2\n",
       "1992    2\n",
       "2006    1\n",
       "2000    1\n",
       "1999    1\n",
       "1997    1\n",
       "1996    1\n",
       "2005    1\n",
       "Name: year, dtype: int64"
      ]
     },
     "execution_count": 210,
     "metadata": {},
     "output_type": "execute_result"
    }
   ],
   "source": [
    "df[df['birth_rate']>=20]['year'].value_counts()"
   ]
  },
  {
   "cell_type": "markdown",
   "id": "ab124933",
   "metadata": {},
   "source": [
    "Проанализируем колонку urbanization"
   ]
  },
  {
   "cell_type": "code",
   "execution_count": 211,
   "id": "e827f6ec",
   "metadata": {},
   "outputs": [
    {
     "data": {
      "text/plain": [
       "100.0"
      ]
     },
     "execution_count": 211,
     "metadata": {},
     "output_type": "execute_result"
    }
   ],
   "source": [
    "df['urbanization'].max()"
   ]
  },
  {
   "cell_type": "code",
   "execution_count": 212,
   "id": "eeeb4909",
   "metadata": {},
   "outputs": [
    {
     "data": {
      "text/plain": [
       "23.63"
      ]
     },
     "execution_count": 212,
     "metadata": {},
     "output_type": "execute_result"
    }
   ],
   "source": [
    "df['urbanization'].min()"
   ]
  },
  {
   "cell_type": "markdown",
   "id": "bbb9a12b",
   "metadata": {},
   "source": [
    "Ниже можно увидеть регионы с высокой рождаемостью и с низким уровним убранизации"
   ]
  },
  {
   "cell_type": "code",
   "execution_count": 213,
   "id": "4b658254",
   "metadata": {},
   "outputs": [
    {
     "data": {
      "text/html": [
       "<div>\n",
       "<style scoped>\n",
       "    .dataframe tbody tr th:only-of-type {\n",
       "        vertical-align: middle;\n",
       "    }\n",
       "\n",
       "    .dataframe tbody tr th {\n",
       "        vertical-align: top;\n",
       "    }\n",
       "\n",
       "    .dataframe thead th {\n",
       "        text-align: right;\n",
       "    }\n",
       "</style>\n",
       "<table border=\"1\" class=\"dataframe\">\n",
       "  <thead>\n",
       "    <tr style=\"text-align: right;\">\n",
       "      <th></th>\n",
       "      <th>year</th>\n",
       "      <th>region</th>\n",
       "      <th>natural population growth</th>\n",
       "      <th>birth_rate</th>\n",
       "      <th>death_rate</th>\n",
       "      <th>unemployment rate</th>\n",
       "      <th>urbanization</th>\n",
       "    </tr>\n",
       "  </thead>\n",
       "  <tbody>\n",
       "    <tr>\n",
       "      <th>442</th>\n",
       "      <td>1995</td>\n",
       "      <td>Republic of Ingushetia</td>\n",
       "      <td>18.5</td>\n",
       "      <td>25.3</td>\n",
       "      <td>6.8</td>\n",
       "      <td>80.83</td>\n",
       "      <td>29.48</td>\n",
       "    </tr>\n",
       "    <tr>\n",
       "      <th>1184</th>\n",
       "      <td>2003</td>\n",
       "      <td>Chechen Republic</td>\n",
       "      <td>18.4</td>\n",
       "      <td>24.9</td>\n",
       "      <td>6.5</td>\n",
       "      <td>75.80</td>\n",
       "      <td>33.75</td>\n",
       "    </tr>\n",
       "    <tr>\n",
       "      <th>1354</th>\n",
       "      <td>2005</td>\n",
       "      <td>Chechen Republic</td>\n",
       "      <td>19.8</td>\n",
       "      <td>24.9</td>\n",
       "      <td>5.1</td>\n",
       "      <td>73.00</td>\n",
       "      <td>34.40</td>\n",
       "    </tr>\n",
       "    <tr>\n",
       "      <th>1524</th>\n",
       "      <td>2007</td>\n",
       "      <td>Chechen Republic</td>\n",
       "      <td>22.4</td>\n",
       "      <td>27.1</td>\n",
       "      <td>4.8</td>\n",
       "      <td>69.75</td>\n",
       "      <td>35.00</td>\n",
       "    </tr>\n",
       "    <tr>\n",
       "      <th>1668</th>\n",
       "      <td>2009</td>\n",
       "      <td>Altai Republic</td>\n",
       "      <td>8.4</td>\n",
       "      <td>20.3</td>\n",
       "      <td>12.2</td>\n",
       "      <td>61.42</td>\n",
       "      <td>27.10</td>\n",
       "    </tr>\n",
       "    <tr>\n",
       "      <th>1694</th>\n",
       "      <td>2009</td>\n",
       "      <td>Chechen Republic</td>\n",
       "      <td>23.8</td>\n",
       "      <td>29.1</td>\n",
       "      <td>5.4</td>\n",
       "      <td>70.85</td>\n",
       "      <td>35.90</td>\n",
       "    </tr>\n",
       "    <tr>\n",
       "      <th>1802</th>\n",
       "      <td>2011</td>\n",
       "      <td>Republic of Ingushetia</td>\n",
       "      <td>23.0</td>\n",
       "      <td>27.0</td>\n",
       "      <td>4.0</td>\n",
       "      <td>67.37</td>\n",
       "      <td>38.40</td>\n",
       "    </tr>\n",
       "    <tr>\n",
       "      <th>1838</th>\n",
       "      <td>2011</td>\n",
       "      <td>Altai Republic</td>\n",
       "      <td>10.5</td>\n",
       "      <td>22.7</td>\n",
       "      <td>12.2</td>\n",
       "      <td>66.73</td>\n",
       "      <td>27.70</td>\n",
       "    </tr>\n",
       "    <tr>\n",
       "      <th>1864</th>\n",
       "      <td>2011</td>\n",
       "      <td>Chechen Republic</td>\n",
       "      <td>23.7</td>\n",
       "      <td>29.0</td>\n",
       "      <td>5.3</td>\n",
       "      <td>73.05</td>\n",
       "      <td>34.90</td>\n",
       "    </tr>\n",
       "    <tr>\n",
       "      <th>1972</th>\n",
       "      <td>2013</td>\n",
       "      <td>Republic of Ingushetia</td>\n",
       "      <td>17.7</td>\n",
       "      <td>21.2</td>\n",
       "      <td>3.5</td>\n",
       "      <td>68.15</td>\n",
       "      <td>39.90</td>\n",
       "    </tr>\n",
       "    <tr>\n",
       "      <th>2008</th>\n",
       "      <td>2013</td>\n",
       "      <td>Altai Republic</td>\n",
       "      <td>9.8</td>\n",
       "      <td>21.1</td>\n",
       "      <td>11.3</td>\n",
       "      <td>73.42</td>\n",
       "      <td>28.90</td>\n",
       "    </tr>\n",
       "    <tr>\n",
       "      <th>2034</th>\n",
       "      <td>2013</td>\n",
       "      <td>Chechen Republic</td>\n",
       "      <td>19.8</td>\n",
       "      <td>24.7</td>\n",
       "      <td>4.9</td>\n",
       "      <td>76.25</td>\n",
       "      <td>34.80</td>\n",
       "    </tr>\n",
       "    <tr>\n",
       "      <th>2204</th>\n",
       "      <td>2015</td>\n",
       "      <td>Chechen Republic</td>\n",
       "      <td>18.2</td>\n",
       "      <td>23.1</td>\n",
       "      <td>4.9</td>\n",
       "      <td>78.20</td>\n",
       "      <td>34.70</td>\n",
       "    </tr>\n",
       "    <tr>\n",
       "      <th>2374</th>\n",
       "      <td>2017</td>\n",
       "      <td>Chechen Republic</td>\n",
       "      <td>17.4</td>\n",
       "      <td>22.0</td>\n",
       "      <td>4.6</td>\n",
       "      <td>79.27</td>\n",
       "      <td>34.70</td>\n",
       "    </tr>\n",
       "  </tbody>\n",
       "</table>\n",
       "</div>"
      ],
      "text/plain": [
       "      year                  region  natural population growth  birth_rate  \\\n",
       "442   1995  Republic of Ingushetia                       18.5        25.3   \n",
       "1184  2003        Chechen Republic                       18.4        24.9   \n",
       "1354  2005        Chechen Republic                       19.8        24.9   \n",
       "1524  2007        Chechen Republic                       22.4        27.1   \n",
       "1668  2009          Altai Republic                        8.4        20.3   \n",
       "1694  2009        Chechen Republic                       23.8        29.1   \n",
       "1802  2011  Republic of Ingushetia                       23.0        27.0   \n",
       "1838  2011          Altai Republic                       10.5        22.7   \n",
       "1864  2011        Chechen Republic                       23.7        29.0   \n",
       "1972  2013  Republic of Ingushetia                       17.7        21.2   \n",
       "2008  2013          Altai Republic                        9.8        21.1   \n",
       "2034  2013        Chechen Republic                       19.8        24.7   \n",
       "2204  2015        Chechen Republic                       18.2        23.1   \n",
       "2374  2017        Chechen Republic                       17.4        22.0   \n",
       "\n",
       "      death_rate  unemployment rate  urbanization  \n",
       "442          6.8              80.83         29.48  \n",
       "1184         6.5              75.80         33.75  \n",
       "1354         5.1              73.00         34.40  \n",
       "1524         4.8              69.75         35.00  \n",
       "1668        12.2              61.42         27.10  \n",
       "1694         5.4              70.85         35.90  \n",
       "1802         4.0              67.37         38.40  \n",
       "1838        12.2              66.73         27.70  \n",
       "1864         5.3              73.05         34.90  \n",
       "1972         3.5              68.15         39.90  \n",
       "2008        11.3              73.42         28.90  \n",
       "2034         4.9              76.25         34.80  \n",
       "2204         4.9              78.20         34.70  \n",
       "2374         4.6              79.27         34.70  "
      ]
     },
     "execution_count": 213,
     "metadata": {},
     "output_type": "execute_result"
    }
   ],
   "source": [
    "df[(df['birth_rate']>=20)&(df['region'])&(df['year'])& (df['urbanization']<=40)]"
   ]
  },
  {
   "cell_type": "code",
   "execution_count": 214,
   "id": "9853e5fe",
   "metadata": {},
   "outputs": [
    {
     "data": {
      "text/html": [
       "<div>\n",
       "<style scoped>\n",
       "    .dataframe tbody tr th:only-of-type {\n",
       "        vertical-align: middle;\n",
       "    }\n",
       "\n",
       "    .dataframe tbody tr th {\n",
       "        vertical-align: top;\n",
       "    }\n",
       "\n",
       "    .dataframe thead th {\n",
       "        text-align: right;\n",
       "    }\n",
       "</style>\n",
       "<table border=\"1\" class=\"dataframe\">\n",
       "  <thead>\n",
       "    <tr style=\"text-align: right;\">\n",
       "      <th></th>\n",
       "      <th>year</th>\n",
       "      <th>region</th>\n",
       "      <th>natural population growth</th>\n",
       "      <th>birth_rate</th>\n",
       "      <th>death_rate</th>\n",
       "      <th>unemployment rate</th>\n",
       "      <th>urbanization</th>\n",
       "    </tr>\n",
       "  </thead>\n",
       "  <tbody>\n",
       "  </tbody>\n",
       "</table>\n",
       "</div>"
      ],
      "text/plain": [
       "Empty DataFrame\n",
       "Columns: [year, region, natural population growth, birth_rate, death_rate, unemployment rate, urbanization]\n",
       "Index: []"
      ]
     },
     "execution_count": 214,
     "metadata": {},
     "output_type": "execute_result"
    }
   ],
   "source": [
    "df[(df['birth_rate']>=20)&(df['region'])&(df['year'])& (df['urbanization']>=70)]"
   ]
  },
  {
   "cell_type": "markdown",
   "id": "bef88ed4",
   "metadata": {},
   "source": [
    "Здесь мы хотели найти регионы с высокой урбанизацией и высокой рождаемостью. В результате, как мы видим, таких регионов нет"
   ]
  },
  {
   "cell_type": "markdown",
   "id": "40a94ca0",
   "metadata": {},
   "source": [
    "Создадим новую переменную level of birth rate - уровень рождаемости для последующего анализа"
   ]
  },
  {
   "cell_type": "code",
   "execution_count": 215,
   "id": "e819b77f",
   "metadata": {},
   "outputs": [],
   "source": [
    "def get_birth_rate(br):\n",
    "    if br < 10:\n",
    "        return 'Low birth rate'\n",
    "    elif br < 20:\n",
    "        return 'Average birth rate'\n",
    "    elif br >= 20:\n",
    "        return 'High birth rate'\n",
    "    else:\n",
    "        return br\n"
   ]
  },
  {
   "cell_type": "markdown",
   "id": "6a32a770",
   "metadata": {},
   "source": [
    "Сделаем переменную категориальной"
   ]
  },
  {
   "cell_type": "code",
   "execution_count": 216,
   "id": "e72f5e85",
   "metadata": {},
   "outputs": [
    {
     "name": "stderr",
     "output_type": "stream",
     "text": [
      "/var/folders/ff/s3b09m1j2jlfm20jwzs75y300000gn/T/ipykernel_1164/517603569.py:2: SettingWithCopyWarning: \n",
      "A value is trying to be set on a copy of a slice from a DataFrame.\n",
      "Try using .loc[row_indexer,col_indexer] = value instead\n",
      "\n",
      "See the caveats in the documentation: https://pandas.pydata.org/pandas-docs/stable/user_guide/indexing.html#returning-a-view-versus-a-copy\n",
      "  df['level of birth rate'] = df['birth_rate'].apply(get_birth_rate)\n",
      "/var/folders/ff/s3b09m1j2jlfm20jwzs75y300000gn/T/ipykernel_1164/517603569.py:3: SettingWithCopyWarning: \n",
      "A value is trying to be set on a copy of a slice from a DataFrame.\n",
      "Try using .loc[row_indexer,col_indexer] = value instead\n",
      "\n",
      "See the caveats in the documentation: https://pandas.pydata.org/pandas-docs/stable/user_guide/indexing.html#returning-a-view-versus-a-copy\n",
      "  df['level of birth rate'] = pd.Categorical(df['level of birth rate'])\n"
     ]
    }
   ],
   "source": [
    "df['birth_rate'].apply(get_birth_rate) \n",
    "df['level of birth rate'] = df['birth_rate'].apply(get_birth_rate) \n",
    "df['level of birth rate'] = pd.Categorical(df['level of birth rate'])"
   ]
  },
  {
   "cell_type": "markdown",
   "id": "df532945",
   "metadata": {},
   "source": [
    "Проверим, получилось ли изменить"
   ]
  },
  {
   "cell_type": "code",
   "execution_count": 217,
   "id": "286641f1",
   "metadata": {},
   "outputs": [
    {
     "name": "stdout",
     "output_type": "stream",
     "text": [
      "<class 'pandas.core.frame.DataFrame'>\n",
      "Int64Index: 2315 entries, 0 to 2379\n",
      "Data columns (total 8 columns):\n",
      " #   Column                     Non-Null Count  Dtype   \n",
      "---  ------                     --------------  -----   \n",
      " 0   year                       2315 non-null   int64   \n",
      " 1   region                     2315 non-null   object  \n",
      " 2   natural population growth  2315 non-null   float64 \n",
      " 3   birth_rate                 2315 non-null   float64 \n",
      " 4   death_rate                 2315 non-null   float64 \n",
      " 5   unemployment rate          2315 non-null   float64 \n",
      " 6   urbanization               2315 non-null   float64 \n",
      " 7   level of birth rate        2315 non-null   category\n",
      "dtypes: category(1), float64(5), int64(1), object(1)\n",
      "memory usage: 147.1+ KB\n"
     ]
    }
   ],
   "source": [
    "df.info()"
   ]
  },
  {
   "cell_type": "code",
   "execution_count": 218,
   "id": "ca1d7b28",
   "metadata": {},
   "outputs": [
    {
     "data": {
      "text/plain": [
       "Index(['Average birth rate', 'High birth rate', 'Low birth rate'], dtype='object')"
      ]
     },
     "execution_count": 218,
     "metadata": {},
     "output_type": "execute_result"
    }
   ],
   "source": [
    "df['level of birth rate'].cat.categories"
   ]
  },
  {
   "cell_type": "markdown",
   "id": "6b27fb35",
   "metadata": {},
   "source": [
    "Создадим еще одну переменную level of urbanization -  уровень урбанизации"
   ]
  },
  {
   "cell_type": "code",
   "execution_count": 219,
   "id": "64dc2181",
   "metadata": {},
   "outputs": [],
   "source": [
    "def get__urbanization(urb):\n",
    "    if urb < 40:\n",
    "        return 'Low urbanization '\n",
    "    elif urb < 70:\n",
    "        return 'Medium urbanization'\n",
    "    elif urb >= 70:\n",
    "        return 'Max urbanization'\n",
    "    else:\n",
    "        return urb"
   ]
  },
  {
   "cell_type": "code",
   "execution_count": 220,
   "id": "2fe131a5",
   "metadata": {},
   "outputs": [
    {
     "name": "stderr",
     "output_type": "stream",
     "text": [
      "/var/folders/ff/s3b09m1j2jlfm20jwzs75y300000gn/T/ipykernel_1164/259443583.py:2: SettingWithCopyWarning: \n",
      "A value is trying to be set on a copy of a slice from a DataFrame.\n",
      "Try using .loc[row_indexer,col_indexer] = value instead\n",
      "\n",
      "See the caveats in the documentation: https://pandas.pydata.org/pandas-docs/stable/user_guide/indexing.html#returning-a-view-versus-a-copy\n",
      "  df['level of urbanization'] = df['urbanization'].apply(get__urbanization)\n",
      "/var/folders/ff/s3b09m1j2jlfm20jwzs75y300000gn/T/ipykernel_1164/259443583.py:3: SettingWithCopyWarning: \n",
      "A value is trying to be set on a copy of a slice from a DataFrame.\n",
      "Try using .loc[row_indexer,col_indexer] = value instead\n",
      "\n",
      "See the caveats in the documentation: https://pandas.pydata.org/pandas-docs/stable/user_guide/indexing.html#returning-a-view-versus-a-copy\n",
      "  df['level of urbanization'] = pd.Categorical(df['level of urbanization'])\n"
     ]
    }
   ],
   "source": [
    "df['urbanization'].apply(get__urbanization) \n",
    "df['level of urbanization'] = df['urbanization'].apply(get__urbanization) \n",
    "df['level of urbanization'] = pd.Categorical(df['level of urbanization'])"
   ]
  },
  {
   "cell_type": "markdown",
   "id": "9ebe960c",
   "metadata": {},
   "source": [
    "Проверяем"
   ]
  },
  {
   "cell_type": "code",
   "execution_count": 221,
   "id": "e0a9edec",
   "metadata": {},
   "outputs": [
    {
     "data": {
      "text/plain": [
       "Index(['Low urbanization ', 'Max urbanization', 'Medium urbanization'], dtype='object')"
      ]
     },
     "execution_count": 221,
     "metadata": {},
     "output_type": "execute_result"
    }
   ],
   "source": [
    "df['level of urbanization'].cat.categories"
   ]
  },
  {
   "cell_type": "markdown",
   "id": "711d0bf5",
   "metadata": {},
   "source": [
    "Проверем какая урбанизация регионов по всей России. Как мы видим большая часть регионов с высоким и средним уровнем урбанизации"
   ]
  },
  {
   "cell_type": "code",
   "execution_count": 222,
   "id": "945fc961",
   "metadata": {},
   "outputs": [
    {
     "data": {
      "text/plain": [
       "level of urbanization\n",
       "Low urbanization         52\n",
       "Max urbanization       1132\n",
       "Medium urbanization    1131\n",
       "dtype: int64"
      ]
     },
     "execution_count": 222,
     "metadata": {},
     "output_type": "execute_result"
    }
   ],
   "source": [
    "df.groupby('level of urbanization').size()"
   ]
  },
  {
   "cell_type": "markdown",
   "id": "162395db",
   "metadata": {},
   "source": [
    "Визуализируем"
   ]
  },
  {
   "cell_type": "code",
   "execution_count": 223,
   "id": "abd8ad73",
   "metadata": {},
   "outputs": [
    {
     "data": {
      "text/plain": [
       "<AxesSubplot:ylabel='None'>"
      ]
     },
     "execution_count": 223,
     "metadata": {},
     "output_type": "execute_result"
    },
    {
     "data": {
      "image/png": "[encoded data removed]",
      "text/plain": [
       "<Figure size 432x288 with 1 Axes>"
      ]
     },
     "metadata": {},
     "output_type": "display_data"
    }
   ],
   "source": [
    "colors = ['#E745C0', '#45AAE7', '#C5E745']\n",
    "df.groupby('level of urbanization').size().plot(kind = 'pie',colors = colors,shadow = True, \n",
    "                                                autopct = '%.3f%%')"
   ]
  },
  {
   "cell_type": "markdown",
   "id": "663b50b1",
   "metadata": {},
   "source": [
    "Проверем уровень рождаемости регионов по всей России. Видим, что уровень рождаемости в основном на среднем уровне"
   ]
  },
  {
   "cell_type": "code",
   "execution_count": 224,
   "id": "b3b0f483",
   "metadata": {},
   "outputs": [
    {
     "data": {
      "text/plain": [
       "level of birth rate\n",
       "Average birth rate    1479\n",
       "High birth rate         61\n",
       "Low birth rate         775\n",
       "dtype: int64"
      ]
     },
     "execution_count": 224,
     "metadata": {},
     "output_type": "execute_result"
    }
   ],
   "source": [
    "df.groupby('level of birth rate').size()"
   ]
  },
  {
   "cell_type": "code",
   "execution_count": 225,
   "id": "e36f4046",
   "metadata": {},
   "outputs": [
    {
     "data": {
      "text/plain": [
       "<AxesSubplot:ylabel='None'>"
      ]
     },
     "execution_count": 225,
     "metadata": {},
     "output_type": "execute_result"
    },
    {
     "data": {
      "image/png": "[encoded data removed]",
      "text/plain": [
       "<Figure size 432x288 with 1 Axes>"
      ]
     },
     "metadata": {},
     "output_type": "display_data"
    }
   ],
   "source": [
    "colors = ['#E745C0', '#45AAE7', '#C5E745']\n",
    "df.groupby('level of birth rate').size().plot(kind = 'pie',colors = colors, explode = [0, 0 , 0.3], \n",
    "                                                shadow = True, \n",
    "                                                autopct = '%.3f%%', \n",
    "                                                textprops = {'color': 'b'},\n",
    "                                               startangle = 180 )"
   ]
  },
  {
   "cell_type": "markdown",
   "id": "dd1ca169",
   "metadata": {},
   "source": [
    "Посмотрим на зависимость уровня урбанизации и уровеня рождаемости и визуализируем"
   ]
  },
  {
   "cell_type": "code",
   "execution_count": 226,
   "id": "5cf5ee59",
   "metadata": {},
   "outputs": [
    {
     "data": {
      "text/plain": [
       "level of urbanization                    \n",
       "Low urbanization       Average birth rate     26\n",
       "                       High birth rate        26\n",
       "                       Low birth rate          0\n",
       "Max urbanization       Average birth rate    706\n",
       "                       Low birth rate        426\n",
       "                       High birth rate         0\n",
       "Medium urbanization    Average birth rate    747\n",
       "                       Low birth rate        349\n",
       "                       High birth rate        35\n",
       "Name: level of birth rate, dtype: int64"
      ]
     },
     "execution_count": 226,
     "metadata": {},
     "output_type": "execute_result"
    }
   ],
   "source": [
    "df.groupby('level of urbanization')['level of birth rate'].value_counts()"
   ]
  },
  {
   "cell_type": "code",
   "execution_count": 227,
   "id": "c00457a2",
   "metadata": {},
   "outputs": [
    {
     "data": {
      "text/plain": [
       "<AxesSubplot:xlabel='level of urbanization'>"
      ]
     },
     "execution_count": 227,
     "metadata": {},
     "output_type": "execute_result"
    },
    {
     "data": {
      "image/png": "[encoded data removed]",
      "text/plain": [
       "<Figure size 432x288 with 1 Axes>"
      ]
     },
     "metadata": {
      "needs_background": "light"
     },
     "output_type": "display_data"
    }
   ],
   "source": [
    "df.groupby('level of urbanization')['level of birth rate'\n",
    "                           ].value_counts().unstack().plot(kind = 'bar', stacked = True)"
   ]
  },
  {
   "cell_type": "markdown",
   "id": "9890ca85",
   "metadata": {},
   "source": [
    "### Уровень смертности и уровень рождаемости"
   ]
  },
  {
   "cell_type": "code",
   "execution_count": 228,
   "id": "dba57cb5",
   "metadata": {},
   "outputs": [
    {
     "data": {
      "text/plain": [
       "count    2315.000000\n",
       "mean       13.901382\n",
       "std         3.499475\n",
       "min         3.200000\n",
       "25%        12.100000\n",
       "50%        14.100000\n",
       "75%        16.100000\n",
       "max        24.900000\n",
       "Name: death_rate, dtype: float64"
      ]
     },
     "execution_count": 228,
     "metadata": {},
     "output_type": "execute_result"
    }
   ],
   "source": [
    "df['death_rate'].describe()"
   ]
  },
  {
   "cell_type": "code",
   "execution_count": 229,
   "id": "bc529862",
   "metadata": {
    "scrolled": true
   },
   "outputs": [
    {
     "data": {
      "text/plain": [
       "count    2315.000000\n",
       "mean       11.548207\n",
       "std         3.234236\n",
       "min         6.200000\n",
       "25%         9.300000\n",
       "50%        11.000000\n",
       "75%        13.000000\n",
       "max        29.900000\n",
       "Name: birth_rate, dtype: float64"
      ]
     },
     "execution_count": 229,
     "metadata": {},
     "output_type": "execute_result"
    }
   ],
   "source": [
    "df['birth_rate'].describe()"
   ]
  },
  {
   "cell_type": "markdown",
   "id": "3dfac1bb",
   "metadata": {},
   "source": [
    "Посмотрим моду в двух столбцах"
   ]
  },
  {
   "cell_type": "code",
   "execution_count": 230,
   "id": "582e8d22",
   "metadata": {},
   "outputs": [
    {
     "data": {
      "text/plain": [
       "0    10.9\n",
       "Name: birth_rate, dtype: float64"
      ]
     },
     "execution_count": 230,
     "metadata": {},
     "output_type": "execute_result"
    }
   ],
   "source": [
    "df['birth_rate'].mode()"
   ]
  },
  {
   "cell_type": "code",
   "execution_count": 231,
   "id": "86ee7847",
   "metadata": {},
   "outputs": [
    {
     "data": {
      "text/plain": [
       "0    14.1\n",
       "Name: death_rate, dtype: float64"
      ]
     },
     "execution_count": 231,
     "metadata": {},
     "output_type": "execute_result"
    }
   ],
   "source": [
    "df['death_rate'].mode()"
   ]
  },
  {
   "cell_type": "markdown",
   "id": "d84286b6",
   "metadata": {},
   "source": [
    "Узнаем сколько выбросов в столбце birth_rate"
   ]
  },
  {
   "cell_type": "code",
   "execution_count": 232,
   "id": "01ad9c7c",
   "metadata": {},
   "outputs": [
    {
     "data": {
      "text/plain": [
       "3.6999999999999993"
      ]
     },
     "execution_count": 232,
     "metadata": {},
     "output_type": "execute_result"
    }
   ],
   "source": [
    "q3=np.percentile(df['birth_rate'],75)\n",
    "q1=np.percentile(df['birth_rate'],25)\n",
    "iqr=q3-q1\n",
    "iqr"
   ]
  },
  {
   "cell_type": "code",
   "execution_count": 233,
   "id": "e41ff6d7",
   "metadata": {},
   "outputs": [
    {
     "data": {
      "text/plain": [
       "(3.7500000000000018, 18.549999999999997)"
      ]
     },
     "execution_count": 233,
     "metadata": {},
     "output_type": "execute_result"
    }
   ],
   "source": [
    "iqr_bottom=q1-1.5*iqr\n",
    "iqr_top=q3+1.5*iqr\n",
    "iqr_bottom,iqr_top"
   ]
  },
  {
   "cell_type": "code",
   "execution_count": 234,
   "id": "876dc974",
   "metadata": {},
   "outputs": [
    {
     "data": {
      "text/plain": [
       "(80, 9)"
      ]
     },
     "execution_count": 234,
     "metadata": {},
     "output_type": "execute_result"
    }
   ],
   "source": [
    "df[df['birth_rate']>iqr_top].shape\n"
   ]
  },
  {
   "cell_type": "markdown",
   "id": "db47b84e",
   "metadata": {},
   "source": [
    "Как мы выяснили выбросов 80. Это значения больше 18,5. Мы не берем в анализе нижнюю границу (iqr_bottom=3.75) так как минимальное значение уровня рождаемости -  6.2"
   ]
  },
  {
   "cell_type": "markdown",
   "id": "c5028b17",
   "metadata": {},
   "source": [
    "Посмотрим, в каких первых 40 регионах из списка содержутся выбросы "
   ]
  },
  {
   "cell_type": "code",
   "execution_count": 235,
   "id": "dd0336be",
   "metadata": {},
   "outputs": [
    {
     "data": {
      "text/html": [
       "<div>\n",
       "<style scoped>\n",
       "    .dataframe tbody tr th:only-of-type {\n",
       "        vertical-align: middle;\n",
       "    }\n",
       "\n",
       "    .dataframe tbody tr th {\n",
       "        vertical-align: top;\n",
       "    }\n",
       "\n",
       "    .dataframe thead th {\n",
       "        text-align: right;\n",
       "    }\n",
       "</style>\n",
       "<table border=\"1\" class=\"dataframe\">\n",
       "  <thead>\n",
       "    <tr style=\"text-align: right;\">\n",
       "      <th></th>\n",
       "      <th>year</th>\n",
       "      <th>region</th>\n",
       "      <th>natural population growth</th>\n",
       "      <th>birth_rate</th>\n",
       "      <th>death_rate</th>\n",
       "      <th>unemployment rate</th>\n",
       "      <th>urbanization</th>\n",
       "      <th>level of birth rate</th>\n",
       "      <th>level of urbanization</th>\n",
       "    </tr>\n",
       "  </thead>\n",
       "  <tbody>\n",
       "    <tr>\n",
       "      <th>13</th>\n",
       "      <td>1990</td>\n",
       "      <td>Republic of Dagestan</td>\n",
       "      <td>19.9</td>\n",
       "      <td>26.1</td>\n",
       "      <td>6.2</td>\n",
       "      <td>94.26</td>\n",
       "      <td>43.49</td>\n",
       "      <td>High birth rate</td>\n",
       "      <td>Medium urbanization</td>\n",
       "    </tr>\n",
       "    <tr>\n",
       "      <th>19</th>\n",
       "      <td>1990</td>\n",
       "      <td>Kabardino-Balkar Republic</td>\n",
       "      <td>11.5</td>\n",
       "      <td>20.0</td>\n",
       "      <td>8.5</td>\n",
       "      <td>80.03</td>\n",
       "      <td>60.86</td>\n",
       "      <td>High birth rate</td>\n",
       "      <td>Medium urbanization</td>\n",
       "    </tr>\n",
       "    <tr>\n",
       "      <th>21</th>\n",
       "      <td>1990</td>\n",
       "      <td>Republic of Kalmykia</td>\n",
       "      <td>12.7</td>\n",
       "      <td>20.9</td>\n",
       "      <td>8.2</td>\n",
       "      <td>77.44</td>\n",
       "      <td>45.81</td>\n",
       "      <td>High birth rate</td>\n",
       "      <td>Medium urbanization</td>\n",
       "    </tr>\n",
       "    <tr>\n",
       "      <th>53</th>\n",
       "      <td>1990</td>\n",
       "      <td>Altai Republic</td>\n",
       "      <td>8.4</td>\n",
       "      <td>19.3</td>\n",
       "      <td>10.9</td>\n",
       "      <td>90.07</td>\n",
       "      <td>27.17</td>\n",
       "      <td>Average birth rate</td>\n",
       "      <td>Low urbanization</td>\n",
       "    </tr>\n",
       "    <tr>\n",
       "      <th>55</th>\n",
       "      <td>1990</td>\n",
       "      <td>Tuva Republic</td>\n",
       "      <td>17.7</td>\n",
       "      <td>26.3</td>\n",
       "      <td>8.6</td>\n",
       "      <td>82.84</td>\n",
       "      <td>46.97</td>\n",
       "      <td>High birth rate</td>\n",
       "      <td>Medium urbanization</td>\n",
       "    </tr>\n",
       "    <tr>\n",
       "      <th>79</th>\n",
       "      <td>1990</td>\n",
       "      <td>Chechen Republic</td>\n",
       "      <td>15.8</td>\n",
       "      <td>24.1</td>\n",
       "      <td>8.3</td>\n",
       "      <td>89.49</td>\n",
       "      <td>43.86</td>\n",
       "      <td>High birth rate</td>\n",
       "      <td>Medium urbanization</td>\n",
       "    </tr>\n",
       "    <tr>\n",
       "      <th>82</th>\n",
       "      <td>1990</td>\n",
       "      <td>Sakha (Yakutia) Republic</td>\n",
       "      <td>12.7</td>\n",
       "      <td>19.4</td>\n",
       "      <td>6.7</td>\n",
       "      <td>64.27</td>\n",
       "      <td>66.88</td>\n",
       "      <td>Average birth rate</td>\n",
       "      <td>Medium urbanization</td>\n",
       "    </tr>\n",
       "    <tr>\n",
       "      <th>98</th>\n",
       "      <td>1991</td>\n",
       "      <td>Republic of Dagestan</td>\n",
       "      <td>18.6</td>\n",
       "      <td>24.9</td>\n",
       "      <td>6.3</td>\n",
       "      <td>95.05</td>\n",
       "      <td>43.97</td>\n",
       "      <td>High birth rate</td>\n",
       "      <td>Medium urbanization</td>\n",
       "    </tr>\n",
       "    <tr>\n",
       "      <th>104</th>\n",
       "      <td>1991</td>\n",
       "      <td>Kabardino-Balkar Republic</td>\n",
       "      <td>10.1</td>\n",
       "      <td>19.0</td>\n",
       "      <td>8.9</td>\n",
       "      <td>80.59</td>\n",
       "      <td>60.97</td>\n",
       "      <td>Average birth rate</td>\n",
       "      <td>Medium urbanization</td>\n",
       "    </tr>\n",
       "    <tr>\n",
       "      <th>106</th>\n",
       "      <td>1991</td>\n",
       "      <td>Republic of Kalmykia</td>\n",
       "      <td>11.1</td>\n",
       "      <td>19.5</td>\n",
       "      <td>8.4</td>\n",
       "      <td>78.73</td>\n",
       "      <td>45.98</td>\n",
       "      <td>Average birth rate</td>\n",
       "      <td>Medium urbanization</td>\n",
       "    </tr>\n",
       "    <tr>\n",
       "      <th>140</th>\n",
       "      <td>1991</td>\n",
       "      <td>Tuva Republic</td>\n",
       "      <td>14.4</td>\n",
       "      <td>23.9</td>\n",
       "      <td>9.5</td>\n",
       "      <td>83.85</td>\n",
       "      <td>47.38</td>\n",
       "      <td>High birth rate</td>\n",
       "      <td>Medium urbanization</td>\n",
       "    </tr>\n",
       "    <tr>\n",
       "      <th>164</th>\n",
       "      <td>1991</td>\n",
       "      <td>Chechen Republic</td>\n",
       "      <td>14.6</td>\n",
       "      <td>22.6</td>\n",
       "      <td>8.0</td>\n",
       "      <td>87.18</td>\n",
       "      <td>47.76</td>\n",
       "      <td>High birth rate</td>\n",
       "      <td>Medium urbanization</td>\n",
       "    </tr>\n",
       "    <tr>\n",
       "      <th>183</th>\n",
       "      <td>1992</td>\n",
       "      <td>Republic of Dagestan</td>\n",
       "      <td>16.3</td>\n",
       "      <td>22.9</td>\n",
       "      <td>6.6</td>\n",
       "      <td>94.99</td>\n",
       "      <td>44.12</td>\n",
       "      <td>High birth rate</td>\n",
       "      <td>Medium urbanization</td>\n",
       "    </tr>\n",
       "    <tr>\n",
       "      <th>225</th>\n",
       "      <td>1992</td>\n",
       "      <td>Tuva Republic</td>\n",
       "      <td>11.7</td>\n",
       "      <td>21.6</td>\n",
       "      <td>9.9</td>\n",
       "      <td>83.40</td>\n",
       "      <td>48.10</td>\n",
       "      <td>High birth rate</td>\n",
       "      <td>Medium urbanization</td>\n",
       "    </tr>\n",
       "    <tr>\n",
       "      <th>249</th>\n",
       "      <td>1992</td>\n",
       "      <td>Chechen Republic</td>\n",
       "      <td>12.5</td>\n",
       "      <td>19.9</td>\n",
       "      <td>7.4</td>\n",
       "      <td>86.71</td>\n",
       "      <td>46.33</td>\n",
       "      <td>Average birth rate</td>\n",
       "      <td>Medium urbanization</td>\n",
       "    </tr>\n",
       "    <tr>\n",
       "      <th>268</th>\n",
       "      <td>1993</td>\n",
       "      <td>Republic of Dagestan</td>\n",
       "      <td>13.5</td>\n",
       "      <td>20.8</td>\n",
       "      <td>7.3</td>\n",
       "      <td>95.02</td>\n",
       "      <td>43.37</td>\n",
       "      <td>High birth rate</td>\n",
       "      <td>Medium urbanization</td>\n",
       "    </tr>\n",
       "    <tr>\n",
       "      <th>310</th>\n",
       "      <td>1993</td>\n",
       "      <td>Tuva Republic</td>\n",
       "      <td>8.8</td>\n",
       "      <td>20.3</td>\n",
       "      <td>11.5</td>\n",
       "      <td>82.46</td>\n",
       "      <td>48.17</td>\n",
       "      <td>High birth rate</td>\n",
       "      <td>Medium urbanization</td>\n",
       "    </tr>\n",
       "    <tr>\n",
       "      <th>353</th>\n",
       "      <td>1994</td>\n",
       "      <td>Republic of Dagestan</td>\n",
       "      <td>13.8</td>\n",
       "      <td>21.0</td>\n",
       "      <td>7.2</td>\n",
       "      <td>94.37</td>\n",
       "      <td>43.09</td>\n",
       "      <td>High birth rate</td>\n",
       "      <td>Medium urbanization</td>\n",
       "    </tr>\n",
       "    <tr>\n",
       "      <th>395</th>\n",
       "      <td>1994</td>\n",
       "      <td>Tuva Republic</td>\n",
       "      <td>6.6</td>\n",
       "      <td>20.1</td>\n",
       "      <td>13.5</td>\n",
       "      <td>81.62</td>\n",
       "      <td>48.50</td>\n",
       "      <td>High birth rate</td>\n",
       "      <td>Medium urbanization</td>\n",
       "    </tr>\n",
       "    <tr>\n",
       "      <th>438</th>\n",
       "      <td>1995</td>\n",
       "      <td>Republic of Dagestan</td>\n",
       "      <td>13.6</td>\n",
       "      <td>20.7</td>\n",
       "      <td>7.1</td>\n",
       "      <td>92.39</td>\n",
       "      <td>42.96</td>\n",
       "      <td>High birth rate</td>\n",
       "      <td>Medium urbanization</td>\n",
       "    </tr>\n",
       "    <tr>\n",
       "      <th>442</th>\n",
       "      <td>1995</td>\n",
       "      <td>Republic of Ingushetia</td>\n",
       "      <td>18.5</td>\n",
       "      <td>25.3</td>\n",
       "      <td>6.8</td>\n",
       "      <td>80.83</td>\n",
       "      <td>29.48</td>\n",
       "      <td>High birth rate</td>\n",
       "      <td>Low urbanization</td>\n",
       "    </tr>\n",
       "    <tr>\n",
       "      <th>480</th>\n",
       "      <td>1995</td>\n",
       "      <td>Tuva Republic</td>\n",
       "      <td>7.1</td>\n",
       "      <td>20.3</td>\n",
       "      <td>13.2</td>\n",
       "      <td>81.09</td>\n",
       "      <td>48.71</td>\n",
       "      <td>High birth rate</td>\n",
       "      <td>Medium urbanization</td>\n",
       "    </tr>\n",
       "    <tr>\n",
       "      <th>523</th>\n",
       "      <td>1996</td>\n",
       "      <td>Republic of Dagestan</td>\n",
       "      <td>11.9</td>\n",
       "      <td>18.8</td>\n",
       "      <td>6.9</td>\n",
       "      <td>92.62</td>\n",
       "      <td>43.41</td>\n",
       "      <td>Average birth rate</td>\n",
       "      <td>Medium urbanization</td>\n",
       "    </tr>\n",
       "    <tr>\n",
       "      <th>527</th>\n",
       "      <td>1996</td>\n",
       "      <td>Republic of Ingushetia</td>\n",
       "      <td>14.1</td>\n",
       "      <td>20.9</td>\n",
       "      <td>6.8</td>\n",
       "      <td>81.06</td>\n",
       "      <td>41.81</td>\n",
       "      <td>High birth rate</td>\n",
       "      <td>Medium urbanization</td>\n",
       "    </tr>\n",
       "    <tr>\n",
       "      <th>565</th>\n",
       "      <td>1996</td>\n",
       "      <td>Tuva Republic</td>\n",
       "      <td>5.2</td>\n",
       "      <td>18.7</td>\n",
       "      <td>13.5</td>\n",
       "      <td>80.60</td>\n",
       "      <td>49.45</td>\n",
       "      <td>Average birth rate</td>\n",
       "      <td>Medium urbanization</td>\n",
       "    </tr>\n",
       "    <tr>\n",
       "      <th>612</th>\n",
       "      <td>1997</td>\n",
       "      <td>Republic of Ingushetia</td>\n",
       "      <td>13.9</td>\n",
       "      <td>20.6</td>\n",
       "      <td>6.7</td>\n",
       "      <td>80.65</td>\n",
       "      <td>42.28</td>\n",
       "      <td>High birth rate</td>\n",
       "      <td>Medium urbanization</td>\n",
       "    </tr>\n",
       "    <tr>\n",
       "      <th>697</th>\n",
       "      <td>1998</td>\n",
       "      <td>Republic of Ingushetia</td>\n",
       "      <td>12.9</td>\n",
       "      <td>19.8</td>\n",
       "      <td>6.9</td>\n",
       "      <td>83.11</td>\n",
       "      <td>42.31</td>\n",
       "      <td>Average birth rate</td>\n",
       "      <td>Medium urbanization</td>\n",
       "    </tr>\n",
       "    <tr>\n",
       "      <th>782</th>\n",
       "      <td>1999</td>\n",
       "      <td>Republic of Ingushetia</td>\n",
       "      <td>14.5</td>\n",
       "      <td>20.6</td>\n",
       "      <td>6.1</td>\n",
       "      <td>84.79</td>\n",
       "      <td>42.01</td>\n",
       "      <td>High birth rate</td>\n",
       "      <td>Medium urbanization</td>\n",
       "    </tr>\n",
       "    <tr>\n",
       "      <th>867</th>\n",
       "      <td>2000</td>\n",
       "      <td>Republic of Ingushetia</td>\n",
       "      <td>16.1</td>\n",
       "      <td>21.5</td>\n",
       "      <td>5.4</td>\n",
       "      <td>85.12</td>\n",
       "      <td>42.87</td>\n",
       "      <td>High birth rate</td>\n",
       "      <td>Medium urbanization</td>\n",
       "    </tr>\n",
       "    <tr>\n",
       "      <th>952</th>\n",
       "      <td>2001</td>\n",
       "      <td>Republic of Ingushetia</td>\n",
       "      <td>15.2</td>\n",
       "      <td>19.4</td>\n",
       "      <td>4.2</td>\n",
       "      <td>73.86</td>\n",
       "      <td>42.64</td>\n",
       "      <td>Average birth rate</td>\n",
       "      <td>Medium urbanization</td>\n",
       "    </tr>\n",
       "    <tr>\n",
       "      <th>1075</th>\n",
       "      <td>2002</td>\n",
       "      <td>Tuva Republic</td>\n",
       "      <td>3.8</td>\n",
       "      <td>18.8</td>\n",
       "      <td>15.0</td>\n",
       "      <td>71.62</td>\n",
       "      <td>51.04</td>\n",
       "      <td>Average birth rate</td>\n",
       "      <td>Medium urbanization</td>\n",
       "    </tr>\n",
       "    <tr>\n",
       "      <th>1160</th>\n",
       "      <td>2003</td>\n",
       "      <td>Tuva Republic</td>\n",
       "      <td>5.4</td>\n",
       "      <td>20.5</td>\n",
       "      <td>15.2</td>\n",
       "      <td>69.18</td>\n",
       "      <td>51.73</td>\n",
       "      <td>High birth rate</td>\n",
       "      <td>Medium urbanization</td>\n",
       "    </tr>\n",
       "    <tr>\n",
       "      <th>1184</th>\n",
       "      <td>2003</td>\n",
       "      <td>Chechen Republic</td>\n",
       "      <td>18.4</td>\n",
       "      <td>24.9</td>\n",
       "      <td>6.5</td>\n",
       "      <td>75.80</td>\n",
       "      <td>33.75</td>\n",
       "      <td>High birth rate</td>\n",
       "      <td>Low urbanization</td>\n",
       "    </tr>\n",
       "    <tr>\n",
       "      <th>1245</th>\n",
       "      <td>2004</td>\n",
       "      <td>Tuva Republic</td>\n",
       "      <td>6.7</td>\n",
       "      <td>20.0</td>\n",
       "      <td>13.4</td>\n",
       "      <td>66.69</td>\n",
       "      <td>52.00</td>\n",
       "      <td>High birth rate</td>\n",
       "      <td>Medium urbanization</td>\n",
       "    </tr>\n",
       "    <tr>\n",
       "      <th>1269</th>\n",
       "      <td>2004</td>\n",
       "      <td>Chechen Republic</td>\n",
       "      <td>19.6</td>\n",
       "      <td>25.2</td>\n",
       "      <td>5.6</td>\n",
       "      <td>74.46</td>\n",
       "      <td>33.90</td>\n",
       "      <td>High birth rate</td>\n",
       "      <td>Low urbanization</td>\n",
       "    </tr>\n",
       "    <tr>\n",
       "      <th>1330</th>\n",
       "      <td>2005</td>\n",
       "      <td>Tuva Republic</td>\n",
       "      <td>5.4</td>\n",
       "      <td>19.4</td>\n",
       "      <td>14.3</td>\n",
       "      <td>64.89</td>\n",
       "      <td>52.70</td>\n",
       "      <td>Average birth rate</td>\n",
       "      <td>Medium urbanization</td>\n",
       "    </tr>\n",
       "    <tr>\n",
       "      <th>1354</th>\n",
       "      <td>2005</td>\n",
       "      <td>Chechen Republic</td>\n",
       "      <td>19.8</td>\n",
       "      <td>24.9</td>\n",
       "      <td>5.1</td>\n",
       "      <td>73.00</td>\n",
       "      <td>34.40</td>\n",
       "      <td>High birth rate</td>\n",
       "      <td>Low urbanization</td>\n",
       "    </tr>\n",
       "    <tr>\n",
       "      <th>1415</th>\n",
       "      <td>2006</td>\n",
       "      <td>Tuva Republic</td>\n",
       "      <td>7.0</td>\n",
       "      <td>19.3</td>\n",
       "      <td>12.6</td>\n",
       "      <td>63.35</td>\n",
       "      <td>51.90</td>\n",
       "      <td>Average birth rate</td>\n",
       "      <td>Medium urbanization</td>\n",
       "    </tr>\n",
       "    <tr>\n",
       "      <th>1439</th>\n",
       "      <td>2006</td>\n",
       "      <td>Chechen Republic</td>\n",
       "      <td>18.9</td>\n",
       "      <td>23.9</td>\n",
       "      <td>5.1</td>\n",
       "      <td>71.54</td>\n",
       "      <td>34.80</td>\n",
       "      <td>High birth rate</td>\n",
       "      <td>Low urbanization</td>\n",
       "    </tr>\n",
       "    <tr>\n",
       "      <th>1498</th>\n",
       "      <td>2007</td>\n",
       "      <td>Altai Republic</td>\n",
       "      <td>7.2</td>\n",
       "      <td>19.7</td>\n",
       "      <td>12.7</td>\n",
       "      <td>58.55</td>\n",
       "      <td>26.70</td>\n",
       "      <td>Average birth rate</td>\n",
       "      <td>Low urbanization</td>\n",
       "    </tr>\n",
       "  </tbody>\n",
       "</table>\n",
       "</div>"
      ],
      "text/plain": [
       "      year                     region  natural population growth  birth_rate  \\\n",
       "13    1990       Republic of Dagestan                       19.9        26.1   \n",
       "19    1990  Kabardino-Balkar Republic                       11.5        20.0   \n",
       "21    1990       Republic of Kalmykia                       12.7        20.9   \n",
       "53    1990             Altai Republic                        8.4        19.3   \n",
       "55    1990              Tuva Republic                       17.7        26.3   \n",
       "79    1990           Chechen Republic                       15.8        24.1   \n",
       "82    1990   Sakha (Yakutia) Republic                       12.7        19.4   \n",
       "98    1991       Republic of Dagestan                       18.6        24.9   \n",
       "104   1991  Kabardino-Balkar Republic                       10.1        19.0   \n",
       "106   1991       Republic of Kalmykia                       11.1        19.5   \n",
       "140   1991              Tuva Republic                       14.4        23.9   \n",
       "164   1991           Chechen Republic                       14.6        22.6   \n",
       "183   1992       Republic of Dagestan                       16.3        22.9   \n",
       "225   1992              Tuva Republic                       11.7        21.6   \n",
       "249   1992           Chechen Republic                       12.5        19.9   \n",
       "268   1993       Republic of Dagestan                       13.5        20.8   \n",
       "310   1993              Tuva Republic                        8.8        20.3   \n",
       "353   1994       Republic of Dagestan                       13.8        21.0   \n",
       "395   1994              Tuva Republic                        6.6        20.1   \n",
       "438   1995       Republic of Dagestan                       13.6        20.7   \n",
       "442   1995     Republic of Ingushetia                       18.5        25.3   \n",
       "480   1995              Tuva Republic                        7.1        20.3   \n",
       "523   1996       Republic of Dagestan                       11.9        18.8   \n",
       "527   1996     Republic of Ingushetia                       14.1        20.9   \n",
       "565   1996              Tuva Republic                        5.2        18.7   \n",
       "612   1997     Republic of Ingushetia                       13.9        20.6   \n",
       "697   1998     Republic of Ingushetia                       12.9        19.8   \n",
       "782   1999     Republic of Ingushetia                       14.5        20.6   \n",
       "867   2000     Republic of Ingushetia                       16.1        21.5   \n",
       "952   2001     Republic of Ingushetia                       15.2        19.4   \n",
       "1075  2002              Tuva Republic                        3.8        18.8   \n",
       "1160  2003              Tuva Republic                        5.4        20.5   \n",
       "1184  2003           Chechen Republic                       18.4        24.9   \n",
       "1245  2004              Tuva Republic                        6.7        20.0   \n",
       "1269  2004           Chechen Republic                       19.6        25.2   \n",
       "1330  2005              Tuva Republic                        5.4        19.4   \n",
       "1354  2005           Chechen Republic                       19.8        24.9   \n",
       "1415  2006              Tuva Republic                        7.0        19.3   \n",
       "1439  2006           Chechen Republic                       18.9        23.9   \n",
       "1498  2007             Altai Republic                        7.2        19.7   \n",
       "\n",
       "      death_rate  unemployment rate  urbanization level of birth rate  \\\n",
       "13           6.2              94.26         43.49     High birth rate   \n",
       "19           8.5              80.03         60.86     High birth rate   \n",
       "21           8.2              77.44         45.81     High birth rate   \n",
       "53          10.9              90.07         27.17  Average birth rate   \n",
       "55           8.6              82.84         46.97     High birth rate   \n",
       "79           8.3              89.49         43.86     High birth rate   \n",
       "82           6.7              64.27         66.88  Average birth rate   \n",
       "98           6.3              95.05         43.97     High birth rate   \n",
       "104          8.9              80.59         60.97  Average birth rate   \n",
       "106          8.4              78.73         45.98  Average birth rate   \n",
       "140          9.5              83.85         47.38     High birth rate   \n",
       "164          8.0              87.18         47.76     High birth rate   \n",
       "183          6.6              94.99         44.12     High birth rate   \n",
       "225          9.9              83.40         48.10     High birth rate   \n",
       "249          7.4              86.71         46.33  Average birth rate   \n",
       "268          7.3              95.02         43.37     High birth rate   \n",
       "310         11.5              82.46         48.17     High birth rate   \n",
       "353          7.2              94.37         43.09     High birth rate   \n",
       "395         13.5              81.62         48.50     High birth rate   \n",
       "438          7.1              92.39         42.96     High birth rate   \n",
       "442          6.8              80.83         29.48     High birth rate   \n",
       "480         13.2              81.09         48.71     High birth rate   \n",
       "523          6.9              92.62         43.41  Average birth rate   \n",
       "527          6.8              81.06         41.81     High birth rate   \n",
       "565         13.5              80.60         49.45  Average birth rate   \n",
       "612          6.7              80.65         42.28     High birth rate   \n",
       "697          6.9              83.11         42.31  Average birth rate   \n",
       "782          6.1              84.79         42.01     High birth rate   \n",
       "867          5.4              85.12         42.87     High birth rate   \n",
       "952          4.2              73.86         42.64  Average birth rate   \n",
       "1075        15.0              71.62         51.04  Average birth rate   \n",
       "1160        15.2              69.18         51.73     High birth rate   \n",
       "1184         6.5              75.80         33.75     High birth rate   \n",
       "1245        13.4              66.69         52.00     High birth rate   \n",
       "1269         5.6              74.46         33.90     High birth rate   \n",
       "1330        14.3              64.89         52.70  Average birth rate   \n",
       "1354         5.1              73.00         34.40     High birth rate   \n",
       "1415        12.6              63.35         51.90  Average birth rate   \n",
       "1439         5.1              71.54         34.80     High birth rate   \n",
       "1498        12.7              58.55         26.70  Average birth rate   \n",
       "\n",
       "     level of urbanization  \n",
       "13     Medium urbanization  \n",
       "19     Medium urbanization  \n",
       "21     Medium urbanization  \n",
       "53       Low urbanization   \n",
       "55     Medium urbanization  \n",
       "79     Medium urbanization  \n",
       "82     Medium urbanization  \n",
       "98     Medium urbanization  \n",
       "104    Medium urbanization  \n",
       "106    Medium urbanization  \n",
       "140    Medium urbanization  \n",
       "164    Medium urbanization  \n",
       "183    Medium urbanization  \n",
       "225    Medium urbanization  \n",
       "249    Medium urbanization  \n",
       "268    Medium urbanization  \n",
       "310    Medium urbanization  \n",
       "353    Medium urbanization  \n",
       "395    Medium urbanization  \n",
       "438    Medium urbanization  \n",
       "442      Low urbanization   \n",
       "480    Medium urbanization  \n",
       "523    Medium urbanization  \n",
       "527    Medium urbanization  \n",
       "565    Medium urbanization  \n",
       "612    Medium urbanization  \n",
       "697    Medium urbanization  \n",
       "782    Medium urbanization  \n",
       "867    Medium urbanization  \n",
       "952    Medium urbanization  \n",
       "1075   Medium urbanization  \n",
       "1160   Medium urbanization  \n",
       "1184     Low urbanization   \n",
       "1245   Medium urbanization  \n",
       "1269     Low urbanization   \n",
       "1330   Medium urbanization  \n",
       "1354     Low urbanization   \n",
       "1415   Medium urbanization  \n",
       "1439     Low urbanization   \n",
       "1498     Low urbanization   "
      ]
     },
     "execution_count": 235,
     "metadata": {},
     "output_type": "execute_result"
    }
   ],
   "source": [
    "df[df['birth_rate']>iqr_top].head(40)"
   ]
  },
  {
   "cell_type": "markdown",
   "id": "935ce7a4",
   "metadata": {},
   "source": [
    "Проверим, что выбросов в нижней границы нет так как минимальное значение уровня рождаемости -  6.2"
   ]
  },
  {
   "cell_type": "code",
   "execution_count": 236,
   "id": "15fe9b3f",
   "metadata": {},
   "outputs": [
    {
     "data": {
      "text/plain": [
       "(0, 9)"
      ]
     },
     "execution_count": 236,
     "metadata": {},
     "output_type": "execute_result"
    }
   ],
   "source": [
    "df[df['birth_rate']<iqr_bottom].shape"
   ]
  },
  {
   "cell_type": "markdown",
   "id": "d917bf5c",
   "metadata": {},
   "source": [
    "Ниже видим, что выбросов по рождаемости больше там, где высокий уровень рождаемости: Республика Тува, Чеченская Республика и Республика Ингушетия"
   ]
  },
  {
   "cell_type": "code",
   "execution_count": 237,
   "id": "bd422f05",
   "metadata": {},
   "outputs": [
    {
     "data": {
      "text/plain": [
       "Tuva Republic                23\n",
       "Chechen Republic             18\n",
       "Republic of Ingushetia       13\n",
       "Republic of Dagestan         11\n",
       "Altai Republic               10\n",
       "Kabardino-Balkar Republic     2\n",
       "Republic of Kalmykia          2\n",
       "Sakha (Yakutia) Republic      1\n",
       "Name: region, dtype: int64"
      ]
     },
     "execution_count": 237,
     "metadata": {},
     "output_type": "execute_result"
    }
   ],
   "source": [
    "df[df['birth_rate']>iqr_top]['region'].value_counts()"
   ]
  },
  {
   "cell_type": "markdown",
   "id": "afc8c378",
   "metadata": {},
   "source": [
    "Посмотрим в какие годы было больше всего выбросов"
   ]
  },
  {
   "cell_type": "code",
   "execution_count": 238,
   "id": "f93ae630",
   "metadata": {},
   "outputs": [
    {
     "data": {
      "text/plain": [
       "1990    7\n",
       "2014    5\n",
       "2013    5\n",
       "2012    5\n",
       "2011    5\n",
       "1991    5\n",
       "2010    4\n",
       "2009    4\n",
       "1992    3\n",
       "2015    3\n",
       "1995    3\n",
       "1996    3\n",
       "2008    3\n",
       "2007    3\n",
       "2006    2\n",
       "2016    2\n",
       "2004    2\n",
       "2005    2\n",
       "2003    2\n",
       "1994    2\n",
       "1993    2\n",
       "2017    2\n",
       "2002    1\n",
       "2001    1\n",
       "2000    1\n",
       "1999    1\n",
       "1998    1\n",
       "1997    1\n",
       "Name: year, dtype: int64"
      ]
     },
     "execution_count": 238,
     "metadata": {},
     "output_type": "execute_result"
    }
   ],
   "source": [
    "df[df['birth_rate']>iqr_top]['year'].value_counts()"
   ]
  },
  {
   "cell_type": "code",
   "execution_count": 239,
   "id": "2e83543e",
   "metadata": {},
   "outputs": [
    {
     "data": {
      "text/plain": [
       "0      -0.457705\n",
       "1      -0.800688\n",
       "2      -1.515235\n",
       "3      -1.172253\n",
       "4      -1.000761\n",
       "          ...   \n",
       "2375   -0.371960\n",
       "2376   -1.286580\n",
       "2377   -1.658145\n",
       "2378   -2.572765\n",
       "2379    0.371169\n",
       "Name: death_rate, Length: 2315, dtype: float64"
      ]
     },
     "execution_count": 239,
     "metadata": {},
     "output_type": "execute_result"
    }
   ],
   "source": [
    "import scipy.stats\n",
    "scipy.stats.zscore(df['death_rate'])"
   ]
  },
  {
   "cell_type": "markdown",
   "id": "ace171af",
   "metadata": {},
   "source": [
    "Рассмотрим данные по уровню смертности через z-оценку. Для этого создадим новую переменную death_z_score"
   ]
  },
  {
   "cell_type": "code",
   "execution_count": 240,
   "id": "ca6ffcab",
   "metadata": {},
   "outputs": [
    {
     "name": "stderr",
     "output_type": "stream",
     "text": [
      "/var/folders/ff/s3b09m1j2jlfm20jwzs75y300000gn/T/ipykernel_1164/1696910401.py:1: SettingWithCopyWarning: \n",
      "A value is trying to be set on a copy of a slice from a DataFrame.\n",
      "Try using .loc[row_indexer,col_indexer] = value instead\n",
      "\n",
      "See the caveats in the documentation: https://pandas.pydata.org/pandas-docs/stable/user_guide/indexing.html#returning-a-view-versus-a-copy\n",
      "  df['death_z_score']=scipy.stats.zscore(df['death_rate'])\n"
     ]
    }
   ],
   "source": [
    "df['death_z_score']=scipy.stats.zscore(df['death_rate'])"
   ]
  },
  {
   "cell_type": "code",
   "execution_count": 241,
   "id": "601cbae3",
   "metadata": {},
   "outputs": [
    {
     "data": {
      "text/html": [
       "<div>\n",
       "<style scoped>\n",
       "    .dataframe tbody tr th:only-of-type {\n",
       "        vertical-align: middle;\n",
       "    }\n",
       "\n",
       "    .dataframe tbody tr th {\n",
       "        vertical-align: top;\n",
       "    }\n",
       "\n",
       "    .dataframe thead th {\n",
       "        text-align: right;\n",
       "    }\n",
       "</style>\n",
       "<table border=\"1\" class=\"dataframe\">\n",
       "  <thead>\n",
       "    <tr style=\"text-align: right;\">\n",
       "      <th></th>\n",
       "      <th>year</th>\n",
       "      <th>region</th>\n",
       "      <th>natural population growth</th>\n",
       "      <th>birth_rate</th>\n",
       "      <th>death_rate</th>\n",
       "      <th>unemployment rate</th>\n",
       "      <th>urbanization</th>\n",
       "      <th>level of birth rate</th>\n",
       "      <th>level of urbanization</th>\n",
       "      <th>death_z_score</th>\n",
       "    </tr>\n",
       "  </thead>\n",
       "  <tbody>\n",
       "    <tr>\n",
       "      <th>0</th>\n",
       "      <td>1990</td>\n",
       "      <td>Republic of Adygea</td>\n",
       "      <td>1.9</td>\n",
       "      <td>14.2</td>\n",
       "      <td>12.3</td>\n",
       "      <td>84.66</td>\n",
       "      <td>52.42</td>\n",
       "      <td>Average birth rate</td>\n",
       "      <td>Medium urbanization</td>\n",
       "      <td>-0.457705</td>\n",
       "    </tr>\n",
       "    <tr>\n",
       "      <th>1</th>\n",
       "      <td>1990</td>\n",
       "      <td>Altai Krai</td>\n",
       "      <td>1.8</td>\n",
       "      <td>12.9</td>\n",
       "      <td>11.1</td>\n",
       "      <td>80.24</td>\n",
       "      <td>58.07</td>\n",
       "      <td>Average birth rate</td>\n",
       "      <td>Medium urbanization</td>\n",
       "      <td>-0.800688</td>\n",
       "    </tr>\n",
       "    <tr>\n",
       "      <th>2</th>\n",
       "      <td>1990</td>\n",
       "      <td>Amur Oblast</td>\n",
       "      <td>7.6</td>\n",
       "      <td>16.2</td>\n",
       "      <td>8.6</td>\n",
       "      <td>69.55</td>\n",
       "      <td>68.37</td>\n",
       "      <td>Average birth rate</td>\n",
       "      <td>Medium urbanization</td>\n",
       "      <td>-1.515235</td>\n",
       "    </tr>\n",
       "    <tr>\n",
       "      <th>3</th>\n",
       "      <td>1990</td>\n",
       "      <td>Arkhangelsk Oblast</td>\n",
       "      <td>3.7</td>\n",
       "      <td>13.5</td>\n",
       "      <td>9.8</td>\n",
       "      <td>73.26</td>\n",
       "      <td>73.63</td>\n",
       "      <td>Average birth rate</td>\n",
       "      <td>Max urbanization</td>\n",
       "      <td>-1.172253</td>\n",
       "    </tr>\n",
       "    <tr>\n",
       "      <th>4</th>\n",
       "      <td>1990</td>\n",
       "      <td>Astrakhan Oblast</td>\n",
       "      <td>4.7</td>\n",
       "      <td>15.1</td>\n",
       "      <td>10.4</td>\n",
       "      <td>77.05</td>\n",
       "      <td>68.01</td>\n",
       "      <td>Average birth rate</td>\n",
       "      <td>Medium urbanization</td>\n",
       "      <td>-1.000761</td>\n",
       "    </tr>\n",
       "    <tr>\n",
       "      <th>...</th>\n",
       "      <td>...</td>\n",
       "      <td>...</td>\n",
       "      <td>...</td>\n",
       "      <td>...</td>\n",
       "      <td>...</td>\n",
       "      <td>...</td>\n",
       "      <td>...</td>\n",
       "      <td>...</td>\n",
       "      <td>...</td>\n",
       "      <td>...</td>\n",
       "    </tr>\n",
       "    <tr>\n",
       "      <th>2375</th>\n",
       "      <td>2017</td>\n",
       "      <td>Chuvash Republic</td>\n",
       "      <td>-1.3</td>\n",
       "      <td>11.3</td>\n",
       "      <td>12.6</td>\n",
       "      <td>76.63</td>\n",
       "      <td>62.00</td>\n",
       "      <td>Average birth rate</td>\n",
       "      <td>Medium urbanization</td>\n",
       "      <td>-0.371960</td>\n",
       "    </tr>\n",
       "    <tr>\n",
       "      <th>2376</th>\n",
       "      <td>2017</td>\n",
       "      <td>Chukotka Autonomous Okrug</td>\n",
       "      <td>3.7</td>\n",
       "      <td>13.1</td>\n",
       "      <td>9.4</td>\n",
       "      <td>58.23</td>\n",
       "      <td>70.00</td>\n",
       "      <td>Average birth rate</td>\n",
       "      <td>Max urbanization</td>\n",
       "      <td>-1.286580</td>\n",
       "    </tr>\n",
       "    <tr>\n",
       "      <th>2377</th>\n",
       "      <td>2017</td>\n",
       "      <td>Sakha (Yakutia) Republic</td>\n",
       "      <td>6.4</td>\n",
       "      <td>14.5</td>\n",
       "      <td>8.1</td>\n",
       "      <td>70.10</td>\n",
       "      <td>65.50</td>\n",
       "      <td>Average birth rate</td>\n",
       "      <td>Medium urbanization</td>\n",
       "      <td>-1.658145</td>\n",
       "    </tr>\n",
       "    <tr>\n",
       "      <th>2378</th>\n",
       "      <td>2017</td>\n",
       "      <td>Yamalo-Nenets Autonomous Okrug</td>\n",
       "      <td>9.1</td>\n",
       "      <td>14.0</td>\n",
       "      <td>4.9</td>\n",
       "      <td>53.57</td>\n",
       "      <td>83.70</td>\n",
       "      <td>Average birth rate</td>\n",
       "      <td>Max urbanization</td>\n",
       "      <td>-2.572765</td>\n",
       "    </tr>\n",
       "    <tr>\n",
       "      <th>2379</th>\n",
       "      <td>2017</td>\n",
       "      <td>Yaroslavl Oblast</td>\n",
       "      <td>-4.7</td>\n",
       "      <td>10.5</td>\n",
       "      <td>15.2</td>\n",
       "      <td>82.61</td>\n",
       "      <td>81.70</td>\n",
       "      <td>Average birth rate</td>\n",
       "      <td>Max urbanization</td>\n",
       "      <td>0.371169</td>\n",
       "    </tr>\n",
       "  </tbody>\n",
       "</table>\n",
       "<p>2315 rows × 10 columns</p>\n",
       "</div>"
      ],
      "text/plain": [
       "      year                          region  natural population growth  \\\n",
       "0     1990              Republic of Adygea                        1.9   \n",
       "1     1990                      Altai Krai                        1.8   \n",
       "2     1990                     Amur Oblast                        7.6   \n",
       "3     1990              Arkhangelsk Oblast                        3.7   \n",
       "4     1990                Astrakhan Oblast                        4.7   \n",
       "...    ...                             ...                        ...   \n",
       "2375  2017                Chuvash Republic                       -1.3   \n",
       "2376  2017       Chukotka Autonomous Okrug                        3.7   \n",
       "2377  2017        Sakha (Yakutia) Republic                        6.4   \n",
       "2378  2017  Yamalo-Nenets Autonomous Okrug                        9.1   \n",
       "2379  2017                Yaroslavl Oblast                       -4.7   \n",
       "\n",
       "      birth_rate  death_rate  unemployment rate  urbanization  \\\n",
       "0           14.2        12.3              84.66         52.42   \n",
       "1           12.9        11.1              80.24         58.07   \n",
       "2           16.2         8.6              69.55         68.37   \n",
       "3           13.5         9.8              73.26         73.63   \n",
       "4           15.1        10.4              77.05         68.01   \n",
       "...          ...         ...                ...           ...   \n",
       "2375        11.3        12.6              76.63         62.00   \n",
       "2376        13.1         9.4              58.23         70.00   \n",
       "2377        14.5         8.1              70.10         65.50   \n",
       "2378        14.0         4.9              53.57         83.70   \n",
       "2379        10.5        15.2              82.61         81.70   \n",
       "\n",
       "     level of birth rate level of urbanization  death_z_score  \n",
       "0     Average birth rate   Medium urbanization      -0.457705  \n",
       "1     Average birth rate   Medium urbanization      -0.800688  \n",
       "2     Average birth rate   Medium urbanization      -1.515235  \n",
       "3     Average birth rate      Max urbanization      -1.172253  \n",
       "4     Average birth rate   Medium urbanization      -1.000761  \n",
       "...                  ...                   ...            ...  \n",
       "2375  Average birth rate   Medium urbanization      -0.371960  \n",
       "2376  Average birth rate      Max urbanization      -1.286580  \n",
       "2377  Average birth rate   Medium urbanization      -1.658145  \n",
       "2378  Average birth rate      Max urbanization      -2.572765  \n",
       "2379  Average birth rate      Max urbanization       0.371169  \n",
       "\n",
       "[2315 rows x 10 columns]"
      ]
     },
     "execution_count": 241,
     "metadata": {},
     "output_type": "execute_result"
    }
   ],
   "source": [
    "df"
   ]
  },
  {
   "cell_type": "markdown",
   "id": "bf2ab667",
   "metadata": {},
   "source": [
    "Построим гистограмму чтобы оценить визуально. Видим, что выбросов по переменной немного и они находятся за пределами (-3 и 3)"
   ]
  },
  {
   "cell_type": "code",
   "execution_count": 242,
   "id": "afd90a6a",
   "metadata": {},
   "outputs": [
    {
     "data": {
      "text/plain": [
       "<AxesSubplot:>"
      ]
     },
     "execution_count": 242,
     "metadata": {},
     "output_type": "execute_result"
    },
    {
     "data": {
      "image/png": "[encoded data removed]",
      "text/plain": [
       "<Figure size 432x288 with 1 Axes>"
      ]
     },
     "metadata": {
      "needs_background": "light"
     },
     "output_type": "display_data"
    }
   ],
   "source": [
    "df['death_z_score'].hist()"
   ]
  },
  {
   "cell_type": "code",
   "execution_count": 243,
   "id": "a22984c7",
   "metadata": {},
   "outputs": [
    {
     "data": {
      "text/plain": [
       "(5, 10)"
      ]
     },
     "execution_count": 243,
     "metadata": {},
     "output_type": "execute_result"
    }
   ],
   "source": [
    "df[df['death_z_score']<-3].shape"
   ]
  },
  {
   "cell_type": "code",
   "execution_count": 244,
   "id": "13cbb946",
   "metadata": {},
   "outputs": [
    {
     "data": {
      "text/plain": [
       "(2, 10)"
      ]
     },
     "execution_count": 244,
     "metadata": {},
     "output_type": "execute_result"
    }
   ],
   "source": [
    "df[df['death_z_score']>3].shape"
   ]
  },
  {
   "cell_type": "markdown",
   "id": "252430c4",
   "metadata": {},
   "source": [
    "Выяснили, что выбросов 7. Посмотрим в каких они строках"
   ]
  },
  {
   "cell_type": "code",
   "execution_count": 245,
   "id": "745353bb",
   "metadata": {},
   "outputs": [
    {
     "data": {
      "text/html": [
       "<div>\n",
       "<style scoped>\n",
       "    .dataframe tbody tr th:only-of-type {\n",
       "        vertical-align: middle;\n",
       "    }\n",
       "\n",
       "    .dataframe tbody tr th {\n",
       "        vertical-align: top;\n",
       "    }\n",
       "\n",
       "    .dataframe thead th {\n",
       "        text-align: right;\n",
       "    }\n",
       "</style>\n",
       "<table border=\"1\" class=\"dataframe\">\n",
       "  <thead>\n",
       "    <tr style=\"text-align: right;\">\n",
       "      <th></th>\n",
       "      <th>year</th>\n",
       "      <th>region</th>\n",
       "      <th>natural population growth</th>\n",
       "      <th>birth_rate</th>\n",
       "      <th>death_rate</th>\n",
       "      <th>unemployment rate</th>\n",
       "      <th>urbanization</th>\n",
       "      <th>level of birth rate</th>\n",
       "      <th>level of urbanization</th>\n",
       "      <th>death_z_score</th>\n",
       "    </tr>\n",
       "  </thead>\n",
       "  <tbody>\n",
       "    <tr>\n",
       "      <th>83</th>\n",
       "      <td>1990</td>\n",
       "      <td>Yamalo-Nenets Autonomous Okrug</td>\n",
       "      <td>13.1</td>\n",
       "      <td>16.4</td>\n",
       "      <td>3.3</td>\n",
       "      <td>53.35</td>\n",
       "      <td>78.97</td>\n",
       "      <td>Average birth rate</td>\n",
       "      <td>Max urbanization</td>\n",
       "      <td>-3.030075</td>\n",
       "    </tr>\n",
       "    <tr>\n",
       "      <th>168</th>\n",
       "      <td>1991</td>\n",
       "      <td>Yamalo-Nenets Autonomous Okrug</td>\n",
       "      <td>11.3</td>\n",
       "      <td>14.7</td>\n",
       "      <td>3.4</td>\n",
       "      <td>53.22</td>\n",
       "      <td>82.69</td>\n",
       "      <td>Average birth rate</td>\n",
       "      <td>Max urbanization</td>\n",
       "      <td>-3.001493</td>\n",
       "    </tr>\n",
       "    <tr>\n",
       "      <th>2142</th>\n",
       "      <td>2015</td>\n",
       "      <td>Republic of Ingushetia</td>\n",
       "      <td>15.2</td>\n",
       "      <td>18.5</td>\n",
       "      <td>3.3</td>\n",
       "      <td>69.36</td>\n",
       "      <td>40.70</td>\n",
       "      <td>Average birth rate</td>\n",
       "      <td>Medium urbanization</td>\n",
       "      <td>-3.030075</td>\n",
       "    </tr>\n",
       "    <tr>\n",
       "      <th>2227</th>\n",
       "      <td>2016</td>\n",
       "      <td>Republic of Ingushetia</td>\n",
       "      <td>13.0</td>\n",
       "      <td>16.3</td>\n",
       "      <td>3.3</td>\n",
       "      <td>70.32</td>\n",
       "      <td>41.30</td>\n",
       "      <td>Average birth rate</td>\n",
       "      <td>Medium urbanization</td>\n",
       "      <td>-3.030075</td>\n",
       "    </tr>\n",
       "    <tr>\n",
       "      <th>2312</th>\n",
       "      <td>2017</td>\n",
       "      <td>Republic of Ingushetia</td>\n",
       "      <td>13.1</td>\n",
       "      <td>16.3</td>\n",
       "      <td>3.2</td>\n",
       "      <td>70.42</td>\n",
       "      <td>41.80</td>\n",
       "      <td>Average birth rate</td>\n",
       "      <td>Medium urbanization</td>\n",
       "      <td>-3.058657</td>\n",
       "    </tr>\n",
       "  </tbody>\n",
       "</table>\n",
       "</div>"
      ],
      "text/plain": [
       "      year                          region  natural population growth  \\\n",
       "83    1990  Yamalo-Nenets Autonomous Okrug                       13.1   \n",
       "168   1991  Yamalo-Nenets Autonomous Okrug                       11.3   \n",
       "2142  2015          Republic of Ingushetia                       15.2   \n",
       "2227  2016          Republic of Ingushetia                       13.0   \n",
       "2312  2017          Republic of Ingushetia                       13.1   \n",
       "\n",
       "      birth_rate  death_rate  unemployment rate  urbanization  \\\n",
       "83          16.4         3.3              53.35         78.97   \n",
       "168         14.7         3.4              53.22         82.69   \n",
       "2142        18.5         3.3              69.36         40.70   \n",
       "2227        16.3         3.3              70.32         41.30   \n",
       "2312        16.3         3.2              70.42         41.80   \n",
       "\n",
       "     level of birth rate level of urbanization  death_z_score  \n",
       "83    Average birth rate      Max urbanization      -3.030075  \n",
       "168   Average birth rate      Max urbanization      -3.001493  \n",
       "2142  Average birth rate   Medium urbanization      -3.030075  \n",
       "2227  Average birth rate   Medium urbanization      -3.030075  \n",
       "2312  Average birth rate   Medium urbanization      -3.058657  "
      ]
     },
     "execution_count": 245,
     "metadata": {},
     "output_type": "execute_result"
    }
   ],
   "source": [
    "df[df['death_z_score']<-3]"
   ]
  },
  {
   "cell_type": "code",
   "execution_count": 246,
   "id": "863abe03",
   "metadata": {},
   "outputs": [
    {
     "data": {
      "text/html": [
       "<div>\n",
       "<style scoped>\n",
       "    .dataframe tbody tr th:only-of-type {\n",
       "        vertical-align: middle;\n",
       "    }\n",
       "\n",
       "    .dataframe tbody tr th {\n",
       "        vertical-align: top;\n",
       "    }\n",
       "\n",
       "    .dataframe thead th {\n",
       "        text-align: right;\n",
       "    }\n",
       "</style>\n",
       "<table border=\"1\" class=\"dataframe\">\n",
       "  <thead>\n",
       "    <tr style=\"text-align: right;\">\n",
       "      <th></th>\n",
       "      <th>year</th>\n",
       "      <th>region</th>\n",
       "      <th>natural population growth</th>\n",
       "      <th>birth_rate</th>\n",
       "      <th>death_rate</th>\n",
       "      <th>unemployment rate</th>\n",
       "      <th>urbanization</th>\n",
       "      <th>level of birth rate</th>\n",
       "      <th>level of urbanization</th>\n",
       "      <th>death_z_score</th>\n",
       "    </tr>\n",
       "  </thead>\n",
       "  <tbody>\n",
       "    <tr>\n",
       "      <th>1157</th>\n",
       "      <td>2003</td>\n",
       "      <td>Pskov Oblast</td>\n",
       "      <td>-15.9</td>\n",
       "      <td>9.0</td>\n",
       "      <td>24.9</td>\n",
       "      <td>70.72</td>\n",
       "      <td>66.19</td>\n",
       "      <td>Low birth rate</td>\n",
       "      <td>Medium urbanization</td>\n",
       "      <td>3.143613</td>\n",
       "    </tr>\n",
       "    <tr>\n",
       "      <th>1327</th>\n",
       "      <td>2005</td>\n",
       "      <td>Pskov Oblast</td>\n",
       "      <td>-15.7</td>\n",
       "      <td>8.8</td>\n",
       "      <td>24.6</td>\n",
       "      <td>66.46</td>\n",
       "      <td>67.80</td>\n",
       "      <td>Low birth rate</td>\n",
       "      <td>Medium urbanization</td>\n",
       "      <td>3.057867</td>\n",
       "    </tr>\n",
       "  </tbody>\n",
       "</table>\n",
       "</div>"
      ],
      "text/plain": [
       "      year        region  natural population growth  birth_rate  death_rate  \\\n",
       "1157  2003  Pskov Oblast                      -15.9         9.0        24.9   \n",
       "1327  2005  Pskov Oblast                      -15.7         8.8        24.6   \n",
       "\n",
       "      unemployment rate  urbanization level of birth rate  \\\n",
       "1157              70.72         66.19      Low birth rate   \n",
       "1327              66.46         67.80      Low birth rate   \n",
       "\n",
       "     level of urbanization  death_z_score  \n",
       "1157   Medium urbanization       3.143613  \n",
       "1327   Medium urbanization       3.057867  "
      ]
     },
     "execution_count": 246,
     "metadata": {},
     "output_type": "execute_result"
    }
   ],
   "source": [
    "df[df['death_z_score']>3]"
   ]
  },
  {
   "cell_type": "markdown",
   "id": "98cd5d61",
   "metadata": {},
   "source": [
    "Проверим гипотезу, что чем лучше урбанизация тем меньше смертность"
   ]
  },
  {
   "cell_type": "code",
   "execution_count": 247,
   "id": "9ec21780",
   "metadata": {},
   "outputs": [
    {
     "data": {
      "text/plain": [
       "level of urbanization\n",
       "Low urbanization      -1.230516\n",
       "Max urbanization       0.102772\n",
       "Medium urbanization   -0.046288\n",
       "Name: death_z_score, dtype: float64"
      ]
     },
     "execution_count": 247,
     "metadata": {},
     "output_type": "execute_result"
    }
   ],
   "source": [
    "df.groupby('level of urbanization')['death_z_score'].mean()"
   ]
  },
  {
   "cell_type": "markdown",
   "id": "bf8d5dd3",
   "metadata": {},
   "source": [
    "Гипотеза не подтвердилась"
   ]
  },
  {
   "cell_type": "markdown",
   "id": "3d986413",
   "metadata": {},
   "source": [
    "Посмотрим на то, есть ли корреляция урбанизации с уровенем безработицы"
   ]
  },
  {
   "cell_type": "code",
   "execution_count": 248,
   "id": "32300663",
   "metadata": {},
   "outputs": [
    {
     "data": {
      "text/plain": [
       "-0.34527989628582395"
      ]
     },
     "execution_count": 248,
     "metadata": {},
     "output_type": "execute_result"
    }
   ],
   "source": [
    "df['unemployment rate'].corr(df['urbanization'])"
   ]
  },
  {
   "cell_type": "markdown",
   "id": "f480eff5",
   "metadata": {},
   "source": [
    "Видим, что есть небольшая обратная корреляция. Если уровень безработицы высокий там где менее урбанизировнный регион."
   ]
  },
  {
   "cell_type": "markdown",
   "id": "5fa12c83",
   "metadata": {},
   "source": [
    "Проверим корреляцию между natural population growth и birth_rate. По идеи она должна быть прямой так как natural population growth зависит от birth_rate "
   ]
  },
  {
   "cell_type": "code",
   "execution_count": 249,
   "id": "e349d0c0",
   "metadata": {},
   "outputs": [
    {
     "data": {
      "text/plain": [
       "0.8915355335585898"
      ]
     },
     "execution_count": 249,
     "metadata": {},
     "output_type": "execute_result"
    }
   ],
   "source": [
    "df['natural population growth'].corr(df['birth_rate'])"
   ]
  },
  {
   "cell_type": "markdown",
   "id": "fa2c8392",
   "metadata": {},
   "source": [
    "Действительно видим прямую и сильную корреляцию так как значение ближе к 1. Посмотрим корреляцию на графике"
   ]
  },
  {
   "cell_type": "code",
   "execution_count": 250,
   "id": "b16cfad3",
   "metadata": {},
   "outputs": [
    {
     "data": {
      "text/plain": [
       "<AxesSubplot:xlabel='natural population growth', ylabel='birth_rate'>"
      ]
     },
     "execution_count": 250,
     "metadata": {},
     "output_type": "execute_result"
    },
    {
     "data": {
      "image/png": "[encoded data removed]",
      "text/plain": [
       "<Figure size 432x288 with 1 Axes>"
      ]
     },
     "metadata": {
      "needs_background": "light"
     },
     "output_type": "display_data"
    }
   ],
   "source": [
    "df.plot('natural population growth','birth_rate', kind='scatter')"
   ]
  },
  {
   "cell_type": "markdown",
   "id": "ab3cfb4b",
   "metadata": {},
   "source": [
    "### Уровень безработицы"
   ]
  },
  {
   "cell_type": "markdown",
   "id": "6c89cdc6",
   "metadata": {},
   "source": [
    "Cоздадим новую переменную level of unemployment для анализа "
   ]
  },
  {
   "cell_type": "code",
   "execution_count": 251,
   "id": "bdbe4588",
   "metadata": {},
   "outputs": [
    {
     "data": {
      "text/plain": [
       "37.5"
      ]
     },
     "execution_count": 251,
     "metadata": {},
     "output_type": "execute_result"
    }
   ],
   "source": [
    "df['unemployment rate'].min()"
   ]
  },
  {
   "cell_type": "code",
   "execution_count": 252,
   "id": "b5fcad69",
   "metadata": {},
   "outputs": [
    {
     "data": {
      "text/plain": [
       "95.05"
      ]
     },
     "execution_count": 252,
     "metadata": {},
     "output_type": "execute_result"
    }
   ],
   "source": [
    "df['unemployment rate'].max()"
   ]
  },
  {
   "cell_type": "code",
   "execution_count": 253,
   "id": "a9fadb4d",
   "metadata": {},
   "outputs": [],
   "source": [
    "def get__unemployment_rate(um):\n",
    "    if um < 50:\n",
    "        return 'Low unemployment'\n",
    "    elif um < 70:\n",
    "        return 'Medium unemployment'\n",
    "    elif um >= 70:\n",
    "        return 'Max unemployment'\n",
    "    else:\n",
    "        return um"
   ]
  },
  {
   "cell_type": "code",
   "execution_count": 254,
   "id": "9f7a774f",
   "metadata": {},
   "outputs": [
    {
     "name": "stderr",
     "output_type": "stream",
     "text": [
      "/var/folders/ff/s3b09m1j2jlfm20jwzs75y300000gn/T/ipykernel_1164/2575262518.py:2: SettingWithCopyWarning: \n",
      "A value is trying to be set on a copy of a slice from a DataFrame.\n",
      "Try using .loc[row_indexer,col_indexer] = value instead\n",
      "\n",
      "See the caveats in the documentation: https://pandas.pydata.org/pandas-docs/stable/user_guide/indexing.html#returning-a-view-versus-a-copy\n",
      "  df['level of unemployment'] = df['unemployment rate'].apply(get__unemployment_rate)\n",
      "/var/folders/ff/s3b09m1j2jlfm20jwzs75y300000gn/T/ipykernel_1164/2575262518.py:3: SettingWithCopyWarning: \n",
      "A value is trying to be set on a copy of a slice from a DataFrame.\n",
      "Try using .loc[row_indexer,col_indexer] = value instead\n",
      "\n",
      "See the caveats in the documentation: https://pandas.pydata.org/pandas-docs/stable/user_guide/indexing.html#returning-a-view-versus-a-copy\n",
      "  df['level of unemployment'] = pd.Categorical(df['level of unemployment'])\n"
     ]
    }
   ],
   "source": [
    "df['unemployment rate'].apply(get__unemployment_rate) \n",
    "df['level of unemployment'] = df['unemployment rate'].apply(get__unemployment_rate) \n",
    "df['level of unemployment'] = pd.Categorical(df['level of unemployment'])"
   ]
  },
  {
   "cell_type": "code",
   "execution_count": 255,
   "id": "46768e0f",
   "metadata": {},
   "outputs": [
    {
     "data": {
      "text/html": [
       "<div>\n",
       "<style scoped>\n",
       "    .dataframe tbody tr th:only-of-type {\n",
       "        vertical-align: middle;\n",
       "    }\n",
       "\n",
       "    .dataframe tbody tr th {\n",
       "        vertical-align: top;\n",
       "    }\n",
       "\n",
       "    .dataframe thead th {\n",
       "        text-align: right;\n",
       "    }\n",
       "</style>\n",
       "<table border=\"1\" class=\"dataframe\">\n",
       "  <thead>\n",
       "    <tr style=\"text-align: right;\">\n",
       "      <th></th>\n",
       "      <th>year</th>\n",
       "      <th>region</th>\n",
       "      <th>natural population growth</th>\n",
       "      <th>birth_rate</th>\n",
       "      <th>death_rate</th>\n",
       "      <th>unemployment rate</th>\n",
       "      <th>urbanization</th>\n",
       "      <th>level of birth rate</th>\n",
       "      <th>level of urbanization</th>\n",
       "      <th>death_z_score</th>\n",
       "      <th>level of unemployment</th>\n",
       "    </tr>\n",
       "  </thead>\n",
       "  <tbody>\n",
       "    <tr>\n",
       "      <th>0</th>\n",
       "      <td>1990</td>\n",
       "      <td>Republic of Adygea</td>\n",
       "      <td>1.9</td>\n",
       "      <td>14.2</td>\n",
       "      <td>12.3</td>\n",
       "      <td>84.66</td>\n",
       "      <td>52.42</td>\n",
       "      <td>Average birth rate</td>\n",
       "      <td>Medium urbanization</td>\n",
       "      <td>-0.457705</td>\n",
       "      <td>Max unemployment</td>\n",
       "    </tr>\n",
       "    <tr>\n",
       "      <th>1</th>\n",
       "      <td>1990</td>\n",
       "      <td>Altai Krai</td>\n",
       "      <td>1.8</td>\n",
       "      <td>12.9</td>\n",
       "      <td>11.1</td>\n",
       "      <td>80.24</td>\n",
       "      <td>58.07</td>\n",
       "      <td>Average birth rate</td>\n",
       "      <td>Medium urbanization</td>\n",
       "      <td>-0.800688</td>\n",
       "      <td>Max unemployment</td>\n",
       "    </tr>\n",
       "    <tr>\n",
       "      <th>2</th>\n",
       "      <td>1990</td>\n",
       "      <td>Amur Oblast</td>\n",
       "      <td>7.6</td>\n",
       "      <td>16.2</td>\n",
       "      <td>8.6</td>\n",
       "      <td>69.55</td>\n",
       "      <td>68.37</td>\n",
       "      <td>Average birth rate</td>\n",
       "      <td>Medium urbanization</td>\n",
       "      <td>-1.515235</td>\n",
       "      <td>Medium unemployment</td>\n",
       "    </tr>\n",
       "    <tr>\n",
       "      <th>3</th>\n",
       "      <td>1990</td>\n",
       "      <td>Arkhangelsk Oblast</td>\n",
       "      <td>3.7</td>\n",
       "      <td>13.5</td>\n",
       "      <td>9.8</td>\n",
       "      <td>73.26</td>\n",
       "      <td>73.63</td>\n",
       "      <td>Average birth rate</td>\n",
       "      <td>Max urbanization</td>\n",
       "      <td>-1.172253</td>\n",
       "      <td>Max unemployment</td>\n",
       "    </tr>\n",
       "    <tr>\n",
       "      <th>4</th>\n",
       "      <td>1990</td>\n",
       "      <td>Astrakhan Oblast</td>\n",
       "      <td>4.7</td>\n",
       "      <td>15.1</td>\n",
       "      <td>10.4</td>\n",
       "      <td>77.05</td>\n",
       "      <td>68.01</td>\n",
       "      <td>Average birth rate</td>\n",
       "      <td>Medium urbanization</td>\n",
       "      <td>-1.000761</td>\n",
       "      <td>Max unemployment</td>\n",
       "    </tr>\n",
       "    <tr>\n",
       "      <th>...</th>\n",
       "      <td>...</td>\n",
       "      <td>...</td>\n",
       "      <td>...</td>\n",
       "      <td>...</td>\n",
       "      <td>...</td>\n",
       "      <td>...</td>\n",
       "      <td>...</td>\n",
       "      <td>...</td>\n",
       "      <td>...</td>\n",
       "      <td>...</td>\n",
       "      <td>...</td>\n",
       "    </tr>\n",
       "    <tr>\n",
       "      <th>2375</th>\n",
       "      <td>2017</td>\n",
       "      <td>Chuvash Republic</td>\n",
       "      <td>-1.3</td>\n",
       "      <td>11.3</td>\n",
       "      <td>12.6</td>\n",
       "      <td>76.63</td>\n",
       "      <td>62.00</td>\n",
       "      <td>Average birth rate</td>\n",
       "      <td>Medium urbanization</td>\n",
       "      <td>-0.371960</td>\n",
       "      <td>Max unemployment</td>\n",
       "    </tr>\n",
       "    <tr>\n",
       "      <th>2376</th>\n",
       "      <td>2017</td>\n",
       "      <td>Chukotka Autonomous Okrug</td>\n",
       "      <td>3.7</td>\n",
       "      <td>13.1</td>\n",
       "      <td>9.4</td>\n",
       "      <td>58.23</td>\n",
       "      <td>70.00</td>\n",
       "      <td>Average birth rate</td>\n",
       "      <td>Max urbanization</td>\n",
       "      <td>-1.286580</td>\n",
       "      <td>Medium unemployment</td>\n",
       "    </tr>\n",
       "    <tr>\n",
       "      <th>2377</th>\n",
       "      <td>2017</td>\n",
       "      <td>Sakha (Yakutia) Republic</td>\n",
       "      <td>6.4</td>\n",
       "      <td>14.5</td>\n",
       "      <td>8.1</td>\n",
       "      <td>70.10</td>\n",
       "      <td>65.50</td>\n",
       "      <td>Average birth rate</td>\n",
       "      <td>Medium urbanization</td>\n",
       "      <td>-1.658145</td>\n",
       "      <td>Max unemployment</td>\n",
       "    </tr>\n",
       "    <tr>\n",
       "      <th>2378</th>\n",
       "      <td>2017</td>\n",
       "      <td>Yamalo-Nenets Autonomous Okrug</td>\n",
       "      <td>9.1</td>\n",
       "      <td>14.0</td>\n",
       "      <td>4.9</td>\n",
       "      <td>53.57</td>\n",
       "      <td>83.70</td>\n",
       "      <td>Average birth rate</td>\n",
       "      <td>Max urbanization</td>\n",
       "      <td>-2.572765</td>\n",
       "      <td>Medium unemployment</td>\n",
       "    </tr>\n",
       "    <tr>\n",
       "      <th>2379</th>\n",
       "      <td>2017</td>\n",
       "      <td>Yaroslavl Oblast</td>\n",
       "      <td>-4.7</td>\n",
       "      <td>10.5</td>\n",
       "      <td>15.2</td>\n",
       "      <td>82.61</td>\n",
       "      <td>81.70</td>\n",
       "      <td>Average birth rate</td>\n",
       "      <td>Max urbanization</td>\n",
       "      <td>0.371169</td>\n",
       "      <td>Max unemployment</td>\n",
       "    </tr>\n",
       "  </tbody>\n",
       "</table>\n",
       "<p>2315 rows × 11 columns</p>\n",
       "</div>"
      ],
      "text/plain": [
       "      year                          region  natural population growth  \\\n",
       "0     1990              Republic of Adygea                        1.9   \n",
       "1     1990                      Altai Krai                        1.8   \n",
       "2     1990                     Amur Oblast                        7.6   \n",
       "3     1990              Arkhangelsk Oblast                        3.7   \n",
       "4     1990                Astrakhan Oblast                        4.7   \n",
       "...    ...                             ...                        ...   \n",
       "2375  2017                Chuvash Republic                       -1.3   \n",
       "2376  2017       Chukotka Autonomous Okrug                        3.7   \n",
       "2377  2017        Sakha (Yakutia) Republic                        6.4   \n",
       "2378  2017  Yamalo-Nenets Autonomous Okrug                        9.1   \n",
       "2379  2017                Yaroslavl Oblast                       -4.7   \n",
       "\n",
       "      birth_rate  death_rate  unemployment rate  urbanization  \\\n",
       "0           14.2        12.3              84.66         52.42   \n",
       "1           12.9        11.1              80.24         58.07   \n",
       "2           16.2         8.6              69.55         68.37   \n",
       "3           13.5         9.8              73.26         73.63   \n",
       "4           15.1        10.4              77.05         68.01   \n",
       "...          ...         ...                ...           ...   \n",
       "2375        11.3        12.6              76.63         62.00   \n",
       "2376        13.1         9.4              58.23         70.00   \n",
       "2377        14.5         8.1              70.10         65.50   \n",
       "2378        14.0         4.9              53.57         83.70   \n",
       "2379        10.5        15.2              82.61         81.70   \n",
       "\n",
       "     level of birth rate level of urbanization  death_z_score  \\\n",
       "0     Average birth rate   Medium urbanization      -0.457705   \n",
       "1     Average birth rate   Medium urbanization      -0.800688   \n",
       "2     Average birth rate   Medium urbanization      -1.515235   \n",
       "3     Average birth rate      Max urbanization      -1.172253   \n",
       "4     Average birth rate   Medium urbanization      -1.000761   \n",
       "...                  ...                   ...            ...   \n",
       "2375  Average birth rate   Medium urbanization      -0.371960   \n",
       "2376  Average birth rate      Max urbanization      -1.286580   \n",
       "2377  Average birth rate   Medium urbanization      -1.658145   \n",
       "2378  Average birth rate      Max urbanization      -2.572765   \n",
       "2379  Average birth rate      Max urbanization       0.371169   \n",
       "\n",
       "     level of unemployment  \n",
       "0         Max unemployment  \n",
       "1         Max unemployment  \n",
       "2      Medium unemployment  \n",
       "3         Max unemployment  \n",
       "4         Max unemployment  \n",
       "...                    ...  \n",
       "2375      Max unemployment  \n",
       "2376   Medium unemployment  \n",
       "2377      Max unemployment  \n",
       "2378   Medium unemployment  \n",
       "2379      Max unemployment  \n",
       "\n",
       "[2315 rows x 11 columns]"
      ]
     },
     "execution_count": 255,
     "metadata": {},
     "output_type": "execute_result"
    }
   ],
   "source": [
    "df"
   ]
  },
  {
   "cell_type": "markdown",
   "id": "2c06ebcb",
   "metadata": {},
   "source": [
    "Посмотрим какая безработица по всем годам"
   ]
  },
  {
   "cell_type": "code",
   "execution_count": 256,
   "id": "87f30d1a",
   "metadata": {},
   "outputs": [
    {
     "data": {
      "text/plain": [
       "level of unemployment\n",
       "Low unemployment        119\n",
       "Max unemployment       1031\n",
       "Medium unemployment    1165\n",
       "dtype: int64"
      ]
     },
     "execution_count": 256,
     "metadata": {},
     "output_type": "execute_result"
    }
   ],
   "source": [
    "df.groupby('level of unemployment').size()"
   ]
  },
  {
   "cell_type": "code",
   "execution_count": 257,
   "id": "6bbfb14f",
   "metadata": {},
   "outputs": [
    {
     "data": {
      "text/plain": [
       "0    2017\n",
       "Name: year, dtype: int64"
      ]
     },
     "execution_count": 257,
     "metadata": {},
     "output_type": "execute_result"
    }
   ],
   "source": [
    "df['year'][df['level of unemployment']=='Max unemployment'].mode()"
   ]
  },
  {
   "cell_type": "code",
   "execution_count": 258,
   "id": "dcb80b0e",
   "metadata": {},
   "outputs": [
    {
     "data": {
      "text/plain": [
       "0    2004\n",
       "1    2005\n",
       "2    2006\n",
       "3    2007\n",
       "Name: year, dtype: int64"
      ]
     },
     "execution_count": 258,
     "metadata": {},
     "output_type": "execute_result"
    }
   ],
   "source": [
    "df['year'][df['level of unemployment']=='Low unemployment'].mode()"
   ]
  },
  {
   "cell_type": "code",
   "execution_count": 259,
   "id": "cc8396e9",
   "metadata": {},
   "outputs": [
    {
     "data": {
      "text/plain": [
       "Republic of Adygea          20\n",
       "Tula Oblast                 20\n",
       "Tver Oblast                 20\n",
       "Ryazan Oblast               20\n",
       "Pskov Oblast                20\n",
       "                            ..\n",
       "Nenets Autonomous Okrug      2\n",
       "Sakhalin Oblast              2\n",
       "Primorsky Krai               1\n",
       "Komi Republic                1\n",
       "Sakha (Yakutia) Republic     1\n",
       "Name: region, Length: 78, dtype: int64"
      ]
     },
     "execution_count": 259,
     "metadata": {},
     "output_type": "execute_result"
    }
   ],
   "source": [
    "df['region'][df['level of unemployment']=='Max unemployment'].value_counts()"
   ]
  },
  {
   "cell_type": "code",
   "execution_count": 260,
   "id": "82b15962",
   "metadata": {},
   "outputs": [
    {
     "data": {
      "text/plain": [
       "Republic of Adygea                  20\n",
       "Tula Oblast                         20\n",
       "Tver Oblast                         20\n",
       "Ryazan Oblast                       20\n",
       "Pskov Oblast                        20\n",
       "Tambov Oblast                       19\n",
       "Republic of North Ossetia-Alania    19\n",
       "Tuva Republic                       19\n",
       "Novgorod Oblast                     19\n",
       "Kursk Oblast                        19\n",
       "Name: region, dtype: int64"
      ]
     },
     "execution_count": 260,
     "metadata": {},
     "output_type": "execute_result"
    }
   ],
   "source": [
    "df['region'][df['level of unemployment']=='Max unemployment'].value_counts().head(10)"
   ]
  },
  {
   "cell_type": "code",
   "execution_count": 261,
   "id": "6a71db52",
   "metadata": {},
   "outputs": [
    {
     "data": {
      "text/plain": [
       "Chukotka Autonomous Okrug                23\n",
       "Yamalo-Nenets Autonomous Okrug           21\n",
       "Kamchatka Krai                           20\n",
       "Magadan Oblast                           19\n",
       "Khanty–Mansi Autonomous Okrug – Yugra    16\n",
       "Murmansk Oblast                          10\n",
       "Sakhalin Oblast                           5\n",
       "Komi Republic                             5\n",
       "Name: region, dtype: int64"
      ]
     },
     "execution_count": 261,
     "metadata": {},
     "output_type": "execute_result"
    }
   ],
   "source": [
    "df['region'][df['level of unemployment']=='Low unemployment'].value_counts().head(10)"
   ]
  },
  {
   "cell_type": "code",
   "execution_count": 262,
   "id": "a25551f5",
   "metadata": {},
   "outputs": [
    {
     "data": {
      "text/plain": [
       "<AxesSubplot:xlabel='level of unemployment'>"
      ]
     },
     "execution_count": 262,
     "metadata": {},
     "output_type": "execute_result"
    },
    {
     "data": {
      "image/png": "[encoded data removed]",
      "text/plain": [
       "<Figure size 432x288 with 1 Axes>"
      ]
     },
     "metadata": {
      "needs_background": "light"
     },
     "output_type": "display_data"
    }
   ],
   "source": [
    "df.groupby('level of unemployment')['level of birth rate'\n",
    "                           ].value_counts().unstack().plot(kind = 'bar', stacked = True)"
   ]
  },
  {
   "cell_type": "markdown",
   "id": "1e121b36",
   "metadata": {},
   "source": [
    "Низкий уровень рождаемости в регионах с высоким уровнем безработицы"
   ]
  },
  {
   "cell_type": "code",
   "execution_count": 263,
   "id": "d3274978",
   "metadata": {},
   "outputs": [
    {
     "data": {
      "text/plain": [
       "<AxesSubplot:xlabel='year'>"
      ]
     },
     "execution_count": 263,
     "metadata": {},
     "output_type": "execute_result"
    },
    {
     "data": {
      "image/png": "[encoded data removed]",
      "text/plain": [
       "<Figure size 432x288 with 1 Axes>"
      ]
     },
     "metadata": {
      "needs_background": "light"
     },
     "output_type": "display_data"
    }
   ],
   "source": [
    "df.groupby('year')['level of unemployment'\n",
    "                           ].value_counts().unstack().plot(kind = 'bar', stacked = True)"
   ]
  },
  {
   "cell_type": "markdown",
   "id": "d9b2b29f",
   "metadata": {},
   "source": [
    "Здесь мы видим, что уровень безработицы активно начинает расти с 2012 года и достигает максимума в 2017 году"
   ]
  },
  {
   "cell_type": "markdown",
   "id": "12c22b63",
   "metadata": {},
   "source": [
    "### Итог"
   ]
  },
  {
   "cell_type": "markdown",
   "id": "9b880f99",
   "metadata": {},
   "source": [
    "  1.Больше всего выбросов по рожадемости в регионах с высокой рождаемостью - это Республика Тува, Чеченская Республика и Республика Ингушетия  \n",
    "  2.Год с наиболее высокой рождаемостью - 1990  \n",
    "  3.Нет регионов с высокоми показателями рождаемости и высокими показателями урбанизации за 1990-2017 год, хотя показателей с высоким уровнем урбанизации 1132, а это половина от всех данных по урбанизации (49%).  \n",
    "  4.Регионы с высокой рождаемостью и с низким уровним убранизации - Республика Алтай, Чеченская Республика и Республика Ингушетия  \n",
    "  5. В России очень мало регионов с низким уровнем урбанизации (2,5%)  \n",
    "  6. Уровень рождаемости в России с 1990 по 2017 год - средней  \n",
    "  7. Большая рождаемость в регионах со средним уровнем урбанизации  \n",
    "  8. Наибольший уровень смертности был в Псковской области в 2003 и в 2005 году. Также в Псковской области низкий уровень рождаемости в эти годы.  \n",
    "  9. Наименьший уровень смертности в Республике Ингушетия с 2015 по 2017 год, а также в Ямало Ненецком автономном округe\n",
    "  10. Cуществует обратная корреляция между уровнем безработицы и урбанизацией\n",
    "  11. Caмая высокая безработица чаще всего в регионах была в 2017 году\n",
    "  12. Самая низкая с 2004 по 2007\n",
    "  13. Cамая высокая безработица в Республике Адыгея,Тульская область, Тверская область, Рязанская область и Псковская область  \n",
    "  14.Низкий уровень безработицы в Чукотском Автономном Округе\n",
    "  15.Низкий уровень рождаемости в регионах с высоким уровнем безработицы\n",
    "  16.Уровень безработицы аквтино растет с 2013 года"
   ]
  },
  {
   "cell_type": "code",
   "execution_count": null,
   "id": "88a98adf",
   "metadata": {},
   "outputs": [],
   "source": []
  },
  {
   "cell_type": "code",
   "execution_count": null,
   "id": "d6265f78",
   "metadata": {},
   "outputs": [],
   "source": []
  }
 ],
 "metadata": {
  "kernelspec": {
   "display_name": "Python 3 (ipykernel)",
   "language": "python",
   "name": "python3"
  },
  "language_info": {
   "codemirror_mode": {
    "name": "ipython",
    "version": 3
   },
   "file_extension": ".py",
   "mimetype": "text/x-python",
   "name": "python",
   "nbconvert_exporter": "python",
   "pygments_lexer": "ipython3",
   "version": "3.9.12"
  }
 },
 "nbformat": 4,
 "nbformat_minor": 5
}
